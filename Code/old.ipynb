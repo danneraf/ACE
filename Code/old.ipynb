{
 "cells": [
  {
   "cell_type": "code",
   "execution_count": 1,
   "id": "7ce648ad-7e69-4245-8167-704c0ccd2b5b",
   "metadata": {},
   "outputs": [],
   "source": [
    "import pandas as pd"
   ]
  },
  {
   "cell_type": "code",
   "execution_count": 10,
   "id": "f1180310-d520-4373-9417-15b84cc7fcc7",
   "metadata": {},
   "outputs": [
    {
     "name": "stderr",
     "output_type": "stream",
     "text": [
      "/Users/danner/opt/anaconda3/lib/python3.9/site-packages/pandas/io/sas/sas_xport.py:475: PerformanceWarning: DataFrame is highly fragmented.  This is usually the result of calling `frame.insert` many times, which has poor performance.  Consider joining all columns at once using pd.concat(axis=1) instead.  To get a de-fragmented frame, use `newframe = frame.copy()`\n",
      "  df[x] = v\n"
     ]
    }
   ],
   "source": [
    "ace2021 = pd.read_sas('../Datasets/LLCP2021.XPT', encoding='latin-1')\n",
    "\n",
    "# Join columns using pd.concat(axis=1) for PerformanceWarning\n",
    "ace2021 = pd.concat([ace2021[col] for col in ace2021.columns], axis=1)\n",
    "\n",
    "# Create a de-fragmented copy of the DataFrame\n",
    "ace2021 = ace2021.copy()"
   ]
  },
  {
   "cell_type": "code",
   "execution_count": 9,
   "id": "12aad328-3efe-43da-9be3-e2094ed1f1eb",
   "metadata": {},
   "outputs": [
    {
     "data": {
      "text/html": [
       "<div>\n",
       "<style scoped>\n",
       "    .dataframe tbody tr th:only-of-type {\n",
       "        vertical-align: middle;\n",
       "    }\n",
       "\n",
       "    .dataframe tbody tr th {\n",
       "        vertical-align: top;\n",
       "    }\n",
       "\n",
       "    .dataframe thead th {\n",
       "        text-align: right;\n",
       "    }\n",
       "</style>\n",
       "<table border=\"1\" class=\"dataframe\">\n",
       "  <thead>\n",
       "    <tr style=\"text-align: right;\">\n",
       "      <th></th>\n",
       "      <th>0</th>\n",
       "      <th>1</th>\n",
       "      <th>2</th>\n",
       "      <th>3</th>\n",
       "      <th>4</th>\n",
       "      <th>5</th>\n",
       "      <th>6</th>\n",
       "      <th>7</th>\n",
       "      <th>8</th>\n",
       "      <th>9</th>\n",
       "      <th>...</th>\n",
       "      <th>293</th>\n",
       "      <th>294</th>\n",
       "      <th>295</th>\n",
       "      <th>296</th>\n",
       "      <th>297</th>\n",
       "      <th>298</th>\n",
       "      <th>299</th>\n",
       "      <th>300</th>\n",
       "      <th>301</th>\n",
       "      <th>302</th>\n",
       "    </tr>\n",
       "  </thead>\n",
       "  <tbody>\n",
       "    <tr>\n",
       "      <th>0</th>\n",
       "      <td>1.0</td>\n",
       "      <td>1.0</td>\n",
       "      <td>01192021</td>\n",
       "      <td>01</td>\n",
       "      <td>19</td>\n",
       "      <td>2021</td>\n",
       "      <td>1100.0</td>\n",
       "      <td>2021000001</td>\n",
       "      <td>2.021000e+09</td>\n",
       "      <td>1.0</td>\n",
       "      <td>...</td>\n",
       "      <td>1.0</td>\n",
       "      <td>1.0</td>\n",
       "      <td>100.0</td>\n",
       "      <td>214.0</td>\n",
       "      <td>1.0</td>\n",
       "      <td>1.0</td>\n",
       "      <td>1.0</td>\n",
       "      <td>1.0</td>\n",
       "      <td>5.397605e-79</td>\n",
       "      <td>5.397605e-79</td>\n",
       "    </tr>\n",
       "    <tr>\n",
       "      <th>1</th>\n",
       "      <td>1.0</td>\n",
       "      <td>1.0</td>\n",
       "      <td>01212021</td>\n",
       "      <td>01</td>\n",
       "      <td>21</td>\n",
       "      <td>2021</td>\n",
       "      <td>1100.0</td>\n",
       "      <td>2021000002</td>\n",
       "      <td>2.021000e+09</td>\n",
       "      <td>1.0</td>\n",
       "      <td>...</td>\n",
       "      <td>1.0</td>\n",
       "      <td>1.0</td>\n",
       "      <td>100.0</td>\n",
       "      <td>128.0</td>\n",
       "      <td>1.0</td>\n",
       "      <td>1.0</td>\n",
       "      <td>1.0</td>\n",
       "      <td>1.0</td>\n",
       "      <td>5.397605e-79</td>\n",
       "      <td>5.397605e-79</td>\n",
       "    </tr>\n",
       "    <tr>\n",
       "      <th>2</th>\n",
       "      <td>1.0</td>\n",
       "      <td>1.0</td>\n",
       "      <td>01212021</td>\n",
       "      <td>01</td>\n",
       "      <td>21</td>\n",
       "      <td>2021</td>\n",
       "      <td>1100.0</td>\n",
       "      <td>2021000003</td>\n",
       "      <td>2.021000e+09</td>\n",
       "      <td>1.0</td>\n",
       "      <td>...</td>\n",
       "      <td>1.0</td>\n",
       "      <td>1.0</td>\n",
       "      <td>100.0</td>\n",
       "      <td>71.0</td>\n",
       "      <td>1.0</td>\n",
       "      <td>2.0</td>\n",
       "      <td>1.0</td>\n",
       "      <td>1.0</td>\n",
       "      <td>5.397605e-79</td>\n",
       "      <td>5.397605e-79</td>\n",
       "    </tr>\n",
       "  </tbody>\n",
       "</table>\n",
       "<p>3 rows × 303 columns</p>\n",
       "</div>"
      ],
      "text/plain": [
       "   0    1         2   3   4     5       6           7             8    9    \\\n",
       "0  1.0  1.0  01192021  01  19  2021  1100.0  2021000001  2.021000e+09  1.0   \n",
       "1  1.0  1.0  01212021  01  21  2021  1100.0  2021000002  2.021000e+09  1.0   \n",
       "2  1.0  1.0  01212021  01  21  2021  1100.0  2021000003  2.021000e+09  1.0   \n",
       "\n",
       "   ...  293  294    295    296  297  298  299  300           301           302  \n",
       "0  ...  1.0  1.0  100.0  214.0  1.0  1.0  1.0  1.0  5.397605e-79  5.397605e-79  \n",
       "1  ...  1.0  1.0  100.0  128.0  1.0  1.0  1.0  1.0  5.397605e-79  5.397605e-79  \n",
       "2  ...  1.0  1.0  100.0   71.0  1.0  2.0  1.0  1.0  5.397605e-79  5.397605e-79  \n",
       "\n",
       "[3 rows x 303 columns]"
      ]
     },
     "execution_count": 9,
     "metadata": {},
     "output_type": "execute_result"
    }
   ],
   "source": [
    "ace2021.head(3)"
   ]
  },
  {
   "cell_type": "code",
   "execution_count": null,
   "id": "622ccca7-fa17-444d-a648-3aed691de76f",
   "metadata": {},
   "outputs": [],
   "source": [
    "import pyreadstat\n",
    "\n",
    "# Read the XPT file\n",
    "df, meta = pyreadstat.read_sas7bdat('LLCP2017.XPT', catalog_file='LLCP2017_fmt.xpt')\n",
    "\n",
    "# Save the dataframe as a CSV file\n",
    "df.to_csv('LLCP2017.csv', index=False)\n"
   ]
  },
  {
   "cell_type": "code",
   "execution_count": null,
   "id": "5fc48931-dee8-463d-a398-fd8d77be9cb9",
   "metadata": {},
   "outputs": [],
   "source": [
    "import os\n",
    "print(os.getcwd())\n"
   ]
  },
  {
   "cell_type": "code",
   "execution_count": null,
   "id": "ccd0bfcc-128c-4785-89be-f90d8b60f394",
   "metadata": {},
   "outputs": [],
   "source": [
    "import os\n",
    "os.chdir('/Users/danner/Desktop/ga_lessons/ACE/Datasets')\n"
   ]
  },
  {
   "cell_type": "code",
   "execution_count": null,
   "id": "c342e36c-2cf7-434a-89c9-dbdb35334e09",
   "metadata": {},
   "outputs": [],
   "source": [
    "print(os.getcwd())"
   ]
  },
  {
   "cell_type": "code",
   "execution_count": null,
   "id": "a1cd7c05-f8e5-440c-979b-1c852d946a3c",
   "metadata": {},
   "outputs": [],
   "source": [
    "import pyreadstat\n",
    "\n",
    "# Read the XPT file\n",
    "df, meta = pyreadstat.read_sas7bdat('LLCP2017.XPT', catalog_file='LLCP2017_fmt.xpt')\n",
    "\n",
    "# Save the dataframe as a CSV file\n",
    "df.to_csv('LLCP2017.csv', index=False)"
   ]
  },
  {
   "cell_type": "code",
   "execution_count": null,
   "id": "3600d559-b3e7-4246-89ea-5989a8982c2c",
   "metadata": {},
   "outputs": [],
   "source": [
    "#pip install xport\n"
   ]
  },
  {
   "cell_type": "code",
   "execution_count": 3,
   "id": "4da03c92-3fbb-488a-9eab-bdd3ae2131cc",
   "metadata": {},
   "outputs": [],
   "source": [
    "# Required Imports\n",
    "import xport, csv\n",
    "import os\n",
    "import pandas as pd"
   ]
  },
  {
   "cell_type": "code",
   "execution_count": 4,
   "id": "65e6af73-73dc-4a5d-8d95-688572ac2c3d",
   "metadata": {},
   "outputs": [],
   "source": [
    "# Directory path\n",
    "data_dir = '../Datasets/'"
   ]
  },
  {
   "cell_type": "code",
   "execution_count": 5,
   "id": "34c99b83-1b3b-4aba-b3d0-fe7f089cc95e",
   "metadata": {},
   "outputs": [],
   "source": [
    "# Function to convert an .XPT file to .csv format\n",
    "def xpt_to_csv(filepath, savedir):\n",
    "    with open(filepath, 'rb') as f:\n",
    "        df = xport.to_dataframe(f)\n",
    "    print (df.columns.values)\n",
    "    name = filepath.split('.')[0]\n",
    "    savepath = save_dir +'/' + name + '.csv'\n",
    "    df.to_csv(savepath)\n",
    "    \n",
    "    return True"
   ]
  },
  {
   "cell_type": "code",
   "execution_count": 6,
   "id": "ced9a94a-8ae5-4b69-bb6f-55f110c20c34",
   "metadata": {},
   "outputs": [
    {
     "name": "stdout",
     "output_type": "stream",
     "text": [
      "LLCP2018.XPT \n"
     ]
    },
    {
     "ename": "NotADirectoryError",
     "evalue": "[Errno 20] Not a directory: '../Datasets/LLCP2018.XPT '",
     "output_type": "error",
     "traceback": [
      "\u001b[0;31m---------------------------------------------------------------------------\u001b[0m",
      "\u001b[0;31mNotADirectoryError\u001b[0m                        Traceback (most recent call last)",
      "Cell \u001b[0;32mIn[6], line 5\u001b[0m\n\u001b[1;32m      3\u001b[0m path_1 \u001b[38;5;241m=\u001b[39m os\u001b[38;5;241m.\u001b[39mpath\u001b[38;5;241m.\u001b[39mjoin(data_dir, folder)\n\u001b[1;32m      4\u001b[0m \u001b[38;5;66;03m# print (path_1)\u001b[39;00m\n\u001b[0;32m----> 5\u001b[0m \u001b[38;5;28;01mfor\u001b[39;00m sub \u001b[38;5;129;01min\u001b[39;00m \u001b[43mos\u001b[49m\u001b[38;5;241;43m.\u001b[39;49m\u001b[43mlistdir\u001b[49m\u001b[43m(\u001b[49m\u001b[43mpath_1\u001b[49m\u001b[43m)\u001b[49m:\n\u001b[1;32m      6\u001b[0m     \u001b[38;5;28mprint\u001b[39m (sub)\n\u001b[1;32m      7\u001b[0m     path_2 \u001b[38;5;241m=\u001b[39m os\u001b[38;5;241m.\u001b[39mpath\u001b[38;5;241m.\u001b[39mjoin(path_1, sub)\n",
      "\u001b[0;31mNotADirectoryError\u001b[0m: [Errno 20] Not a directory: '../Datasets/LLCP2018.XPT '"
     ]
    }
   ],
   "source": [
    "for folder in os.listdir(data_dir):\n",
    "    print (folder)\n",
    "    path_1 = os.path.join(data_dir, folder)\n",
    "    # print (path_1)\n",
    "    for sub in os.listdir(path_1):\n",
    "        print (sub)\n",
    "        path_2 = os.path.join(path_1, sub)\n",
    "        # print (path_2)\n",
    "        for xpt in os.listdir(path_2):\n",
    "            xpt_loc = os.path.join(path_2, xpt)\n",
    "            sav_loc = os.path.join(path_2, 'csv files')\n",
    "            try:\n",
    "                print (xpt_loc)\n",
    "                print (sav_loc)\n",
    "                flag = xpt_to_csv(xpt_loc, sav_loc)\n",
    "            except:\n",
    "                continue\n",
    "            #'''\n",
    "            if (flag == True):\n",
    "                print (\"Success\", xpt_loc)\n",
    "            else:\n",
    "                print (\"Not a success\", xpt_loc)\n",
    "            #'''"
   ]
  },
  {
   "cell_type": "code",
   "execution_count": 7,
   "id": "3dc17d17-618a-40af-9737-2044060e7a41",
   "metadata": {},
   "outputs": [
    {
     "name": "stdout",
     "output_type": "stream",
     "text": [
      "LLCP2018.XPT \n"
     ]
    },
    {
     "ename": "NotADirectoryError",
     "evalue": "[Errno 20] Not a directory: '../Datasets/LLCP2018.XPT '",
     "output_type": "error",
     "traceback": [
      "\u001b[0;31m---------------------------------------------------------------------------\u001b[0m",
      "\u001b[0;31mNotADirectoryError\u001b[0m                        Traceback (most recent call last)",
      "Cell \u001b[0;32mIn[7], line 24\u001b[0m\n\u001b[1;32m     22\u001b[0m path_1 \u001b[38;5;241m=\u001b[39m os\u001b[38;5;241m.\u001b[39mpath\u001b[38;5;241m.\u001b[39mjoin(data_dir, folder)\n\u001b[1;32m     23\u001b[0m \u001b[38;5;66;03m# print (path_1)\u001b[39;00m\n\u001b[0;32m---> 24\u001b[0m \u001b[38;5;28;01mfor\u001b[39;00m sub \u001b[38;5;129;01min\u001b[39;00m \u001b[43mos\u001b[49m\u001b[38;5;241;43m.\u001b[39;49m\u001b[43mlistdir\u001b[49m\u001b[43m(\u001b[49m\u001b[43mpath_1\u001b[49m\u001b[43m)\u001b[49m:\n\u001b[1;32m     25\u001b[0m     \u001b[38;5;28mprint\u001b[39m (sub)\n\u001b[1;32m     26\u001b[0m     path_2 \u001b[38;5;241m=\u001b[39m os\u001b[38;5;241m.\u001b[39mpath\u001b[38;5;241m.\u001b[39mjoin(path_1, sub)\n",
      "\u001b[0;31mNotADirectoryError\u001b[0m: [Errno 20] Not a directory: '../Datasets/LLCP2018.XPT '"
     ]
    }
   ],
   "source": [
    "# Required Imports\n",
    "import xport, csv\n",
    "import os\n",
    "import pandas as pd\n",
    "\n",
    "# Directory path\n",
    "data_dir = '../Datasets/'\n",
    "\n",
    "# Function to convert an .XPT file to .csv format\n",
    "def xpt_to_csv(filepath, savedir):\n",
    "    with open(filepath, 'rb') as f:\n",
    "        df = xport.to_dataframe(f)\n",
    "    print (df.columns.values)\n",
    "    name = filepath.split('.')[0]\n",
    "    savepath = savedir +'/' + name + '.csv'\n",
    "    df.to_csv(savepath)\n",
    "    \n",
    "    return True\n",
    "\n",
    "for folder in os.listdir(data_dir):\n",
    "    print (folder)\n",
    "    path_1 = os.path.join(data_dir, folder)\n",
    "    # print (path_1)\n",
    "    for sub in os.listdir(path_1):\n",
    "        print (sub)\n",
    "        path_2 = os.path.join(path_1, sub)\n",
    "        # print (path_2)\n",
    "        for xpt in os.listdir(path_2):\n",
    "            xpt_loc = os.path.join(path_2, xpt)\n",
    "            sav_loc = os.path.join(path_2, 'csv files')\n",
    "            try:\n",
    "                print (xpt_loc)\n",
    "                print (sav_loc)\n",
    "                flag = xpt_to_csv(xpt_loc, sav_loc)\n",
    "            except:\n",
    "                continue\n",
    "            #'''\n",
    "            if (flag == True):\n",
    "                print (\"Success\", xpt_loc)\n",
    "            else:\n",
    "                print (\"Not a success\", xpt_loc)\n",
    "            #'''\n"
   ]
  },
  {
   "cell_type": "code",
   "execution_count": 8,
   "id": "cc0bf6f5-1a14-4ace-bd3a-9b9fc7b60558",
   "metadata": {},
   "outputs": [],
   "source": [
    "data_dir = '../Datasets/LLCP2018.XPT'"
   ]
  },
  {
   "cell_type": "code",
   "execution_count": 10,
   "id": "e39463d6-bc5d-4a3f-b9a7-0c64cf85b7cf",
   "metadata": {},
   "outputs": [
    {
     "ename": "IndentationError",
     "evalue": "expected an indented block (117307459.py, line 2)",
     "output_type": "error",
     "traceback": [
      "\u001b[0;36m  Cell \u001b[0;32mIn[10], line 2\u001b[0;36m\u001b[0m\n\u001b[0;31m    if os.path.isfile(os.path.join(data_dir, file)):\u001b[0m\n\u001b[0m                                                    ^\u001b[0m\n\u001b[0;31mIndentationError\u001b[0m\u001b[0;31m:\u001b[0m expected an indented block\n"
     ]
    }
   ],
   "source": [
    "for file in os.listdir(data_dir):\n",
    "    if os.path.isfile(os.path.join(data_dir, file)):"
   ]
  },
  {
   "cell_type": "code",
   "execution_count": 11,
   "id": "0a760d17-3e9e-4153-8cd1-c53b58c311ea",
   "metadata": {},
   "outputs": [],
   "source": [
    "# Required Imports\n",
    "import xport, csv\n",
    "import os\n",
    "import pandas as pd\n",
    "\n",
    "# Directory path\n",
    "data_dir = '../Datasets/'\n",
    "\n",
    "# Function to convert an .XPT file to .csv format\n",
    "def xpt_to_csv(filepath, savedir):\n",
    "    with open(filepath, 'rb') as f:\n",
    "        df = xport.to_dataframe(f)\n",
    "    print(df.columns.values)\n",
    "    name = filepath.split('.')[0]\n",
    "    savepath = save_dir + '/' + name + '.csv'\n",
    "    df.to_csv(savepath)\n",
    "\n",
    "    return True\n",
    "\n",
    "# Loop through all files in the data directory\n",
    "for file in os.listdir(data_dir):\n",
    "    if os.path.isfile(os.path.join(data_dir, file)):\n",
    "        if file.endswith('.XPT'):\n",
    "            print('Processing', file)\n",
    "            filepath = os.path.join(data_dir, file)\n",
    "            savedir = os.path.join(data_dir, 'csv files')\n",
    "            if not os.path.exists(savedir):\n",
    "                os.makedirs(savedir)\n",
    "            try:\n",
    "                flag = xpt_to_csv(filepath, savedir)\n",
    "                if flag:\n",
    "                    print('Successfully converted', file)\n",
    "            except:\n",
    "                print('Error converting', file)\n",
    "                continue\n"
   ]
  },
  {
   "cell_type": "code",
   "execution_count": 13,
   "id": "c513801c-66ed-4bdc-8242-57bd27b117c5",
   "metadata": {},
   "outputs": [],
   "source": [
    "def xpt_to_csv(filepath, savedir):\n",
    "    with open(filepath, 'rb') as f:\n",
    "        df = xport.to_dataframe(f)\n",
    "    print(f\"Read {filepath} successfully\")"
   ]
  },
  {
   "cell_type": "code",
   "execution_count": 14,
   "id": "b7766fd6-c79f-4c15-817a-302a78f0a157",
   "metadata": {},
   "outputs": [],
   "source": [
    "def xpt_to_csv(filepath, savedir):\n",
    "    ...\n",
    "    df.to_csv(savepath)\n",
    "    print(f\"Saved {savepath} successfully\")\n",
    "    ...\n",
    " "
   ]
  },
  {
   "cell_type": "code",
   "execution_count": 15,
   "id": "a4148db2-e805-472a-bca2-b74e594cce5e",
   "metadata": {},
   "outputs": [
    {
     "name": "stdout",
     "output_type": "stream",
     "text": [
      "LLCP2018.XPT \n"
     ]
    },
    {
     "ename": "NotADirectoryError",
     "evalue": "[Errno 20] Not a directory: '../Datasets/LLCP2018.XPT '",
     "output_type": "error",
     "traceback": [
      "\u001b[0;31m---------------------------------------------------------------------------\u001b[0m",
      "\u001b[0;31mNotADirectoryError\u001b[0m                        Traceback (most recent call last)",
      "Cell \u001b[0;32mIn[15], line 20\u001b[0m\n\u001b[1;32m     18\u001b[0m \u001b[38;5;28mprint\u001b[39m (folder)\n\u001b[1;32m     19\u001b[0m path_1 \u001b[38;5;241m=\u001b[39m os\u001b[38;5;241m.\u001b[39mpath\u001b[38;5;241m.\u001b[39mjoin(data_dir, folder)\n\u001b[0;32m---> 20\u001b[0m \u001b[38;5;28;01mfor\u001b[39;00m sub \u001b[38;5;129;01min\u001b[39;00m \u001b[43mos\u001b[49m\u001b[38;5;241;43m.\u001b[39;49m\u001b[43mlistdir\u001b[49m\u001b[43m(\u001b[49m\u001b[43mpath_1\u001b[49m\u001b[43m)\u001b[49m:\n\u001b[1;32m     21\u001b[0m     \u001b[38;5;28mprint\u001b[39m (sub)\n\u001b[1;32m     22\u001b[0m     path_2 \u001b[38;5;241m=\u001b[39m os\u001b[38;5;241m.\u001b[39mpath\u001b[38;5;241m.\u001b[39mjoin(path_1, sub)\n",
      "\u001b[0;31mNotADirectoryError\u001b[0m: [Errno 20] Not a directory: '../Datasets/LLCP2018.XPT '"
     ]
    }
   ],
   "source": [
    "# Required Imports\n",
    "import os\n",
    "import pyreadstat\n",
    "\n",
    "# Directory path\n",
    "data_dir = '../Datasets/'\n",
    "\n",
    "# Function to convert an .XPT file to .csv format\n",
    "def xpt_to_csv(filepath, savedir):\n",
    "    df, meta = pyreadstat.read_sas7bdat(filepath, catalog_file=None)\n",
    "    name = os.path.splitext(os.path.basename(filepath))[0]\n",
    "    savepath = os.path.join(savedir, name + '.csv')\n",
    "    df.to_csv(savepath, index=False)\n",
    "    \n",
    "    return True\n",
    "\n",
    "for folder in os.listdir(data_dir):\n",
    "    print (folder)\n",
    "    path_1 = os.path.join(data_dir, folder)\n",
    "    for sub in os.listdir(path_1):\n",
    "        print (sub)\n",
    "        path_2 = os.path.join(path_1, sub)\n",
    "        for xpt in os.listdir(path_2):\n",
    "            xpt_loc = os.path.join(path_2, xpt)\n",
    "            sav_loc = os.path.join(path_2, 'csv files')\n",
    "            try:\n",
    "                print (xpt_loc)\n",
    "                print (sav_loc)\n",
    "                flag = xpt_to_csv(xpt_loc, sav_loc)\n",
    "                if (flag == True):\n",
    "                    print (\"Success\", xpt_loc)\n",
    "                else:\n",
    "                    print (\"Not a success\", xpt_loc)\n",
    "            except Exception as e:\n",
    "                print(f\"Error occurred while processing {xpt_loc}: {e}\")\n"
   ]
  },
  {
   "cell_type": "code",
   "execution_count": 18,
   "id": "324d1a6c-84bf-4626-9df0-3cc5cf95610f",
   "metadata": {},
   "outputs": [
    {
     "ename": "FileNotFoundError",
     "evalue": "[Errno 2] No such file or directory: '../Datasets/LLCP2017.XPT'",
     "output_type": "error",
     "traceback": [
      "\u001b[0;31m---------------------------------------------------------------------------\u001b[0m",
      "\u001b[0;31mFileNotFoundError\u001b[0m                         Traceback (most recent call last)",
      "Cell \u001b[0;32mIn[18], line 4\u001b[0m\n\u001b[1;32m      1\u001b[0m \u001b[38;5;66;03m# Directory path\u001b[39;00m\n\u001b[1;32m      2\u001b[0m data_dir \u001b[38;5;241m=\u001b[39m \u001b[38;5;124m'\u001b[39m\u001b[38;5;124m../Datasets/LLCP2017.XPT\u001b[39m\u001b[38;5;124m'\u001b[39m\n\u001b[0;32m----> 4\u001b[0m \u001b[38;5;28;01mfor\u001b[39;00m folder \u001b[38;5;129;01min\u001b[39;00m \u001b[43mos\u001b[49m\u001b[38;5;241;43m.\u001b[39;49m\u001b[43mlistdir\u001b[49m\u001b[43m(\u001b[49m\u001b[43mdata_dir\u001b[49m\u001b[43m)\u001b[49m:\n\u001b[1;32m      5\u001b[0m     \u001b[38;5;28mprint\u001b[39m (folder)\n\u001b[1;32m      6\u001b[0m     path_1 \u001b[38;5;241m=\u001b[39m os\u001b[38;5;241m.\u001b[39mpath\u001b[38;5;241m.\u001b[39mjoin(data_dir, folder)\n",
      "\u001b[0;31mFileNotFoundError\u001b[0m: [Errno 2] No such file or directory: '../Datasets/LLCP2017.XPT'"
     ]
    }
   ],
   "source": [
    "# Directory path\n",
    "data_dir = '../Datasets/LLCP2017.XPT'\n",
    "\n",
    "for folder in os.listdir(data_dir):\n",
    "    print (folder)\n",
    "    path_1 = os.path.join(data_dir, folder)\n",
    "    # print (path_1)\n",
    "    if os.path.isdir(path_1):\n",
    "        for sub in os.listdir(path_1):\n",
    "            print (sub)\n",
    "            path_2 = os.path.join(path_1, sub)\n",
    "            # print (path_2)\n",
    "            if os.path.isdir(path_2):\n",
    "                for xpt in os.listdir(path_2):\n",
    "                    xpt_loc = os.path.join(path_2, xpt)\n",
    "                    sav_loc = os.path.join(path_2, 'csv files')\n",
    "                    try:\n",
    "                        print (xpt_loc)\n",
    "                        print (sav_loc)\n",
    "                        flag = xpt_to_csv(xpt_loc, sav_loc)\n",
    "                    except:\n",
    "                        continue\n",
    "                    if (flag == True):\n",
    "                        print (\"Success\", xpt_loc)\n",
    "                    else:\n",
    "                        print (\"Not a success\", xpt_loc)\n",
    " "
   ]
  },
  {
   "cell_type": "code",
   "execution_count": 19,
   "id": "bea9e3bb-1512-44f6-9254-0ecbc4f8e9c8",
   "metadata": {},
   "outputs": [
    {
     "ename": "PyreadstatError",
     "evalue": "File LLCP2017.XPT does not exist!",
     "output_type": "error",
     "traceback": [
      "\u001b[0;31m---------------------------------------------------------------------------\u001b[0m",
      "\u001b[0;31mPyreadstatError\u001b[0m                           Traceback (most recent call last)",
      "Cell \u001b[0;32mIn[19], line 4\u001b[0m\n\u001b[1;32m      1\u001b[0m \u001b[38;5;28;01mimport\u001b[39;00m \u001b[38;5;21;01mpyreadstat\u001b[39;00m\n\u001b[1;32m      3\u001b[0m \u001b[38;5;66;03m# Read the XPT file\u001b[39;00m\n\u001b[0;32m----> 4\u001b[0m df, meta \u001b[38;5;241m=\u001b[39m \u001b[43mpyreadstat\u001b[49m\u001b[38;5;241;43m.\u001b[39;49m\u001b[43mread_sas7bdat\u001b[49m\u001b[43m(\u001b[49m\u001b[38;5;124;43m'\u001b[39;49m\u001b[38;5;124;43mLLCP2017.XPT\u001b[39;49m\u001b[38;5;124;43m'\u001b[39;49m\u001b[43m,\u001b[49m\u001b[43m \u001b[49m\u001b[43mcatalog_file\u001b[49m\u001b[38;5;241;43m=\u001b[39;49m\u001b[38;5;124;43m'\u001b[39;49m\u001b[38;5;124;43mLLCP2017_fmt.xpt\u001b[39;49m\u001b[38;5;124;43m'\u001b[39;49m\u001b[43m)\u001b[49m\n\u001b[1;32m      6\u001b[0m \u001b[38;5;66;03m# Save the dataframe as a CSV file\u001b[39;00m\n\u001b[1;32m      7\u001b[0m df\u001b[38;5;241m.\u001b[39mto_csv(\u001b[38;5;124m'\u001b[39m\u001b[38;5;124mLLCP2017.csv\u001b[39m\u001b[38;5;124m'\u001b[39m, index\u001b[38;5;241m=\u001b[39m\u001b[38;5;28;01mFalse\u001b[39;00m)\n",
      "File \u001b[0;32mpyreadstat/pyreadstat.pyx:127\u001b[0m, in \u001b[0;36mpyreadstat.pyreadstat.read_sas7bdat\u001b[0;34m()\u001b[0m\n",
      "File \u001b[0;32mpyreadstat/_readstat_parser.pyx:1066\u001b[0m, in \u001b[0;36mpyreadstat._readstat_parser.run_conversion\u001b[0;34m()\u001b[0m\n",
      "\u001b[0;31mPyreadstatError\u001b[0m: File LLCP2017.XPT does not exist!"
     ]
    }
   ],
   "source": [
    "import pyreadstat\n",
    "\n",
    "# Read the XPT file\n",
    "df, meta = pyreadstat.read_sas7bdat('LLCP2017.XPT', catalog_file='LLCP2017_fmt.xpt')\n",
    "\n",
    "# Save the dataframe as a CSV file\n",
    "df.to_csv('LLCP2017.csv', index=False)\n"
   ]
  },
  {
   "cell_type": "code",
   "execution_count": 4,
   "id": "cc8b3b11-4aef-415a-bfee-e06c2a04818e",
   "metadata": {},
   "outputs": [
    {
     "ename": "AttributeError",
     "evalue": "'str' object has no attribute 'read'",
     "output_type": "error",
     "traceback": [
      "\u001b[0;31m---------------------------------------------------------------------------\u001b[0m",
      "\u001b[0;31mAttributeError\u001b[0m                            Traceback (most recent call last)",
      "Cell \u001b[0;32mIn[4], line 5\u001b[0m\n\u001b[1;32m      2\u001b[0m \u001b[38;5;28;01mimport\u001b[39;00m \u001b[38;5;21;01mcsv\u001b[39;00m\n\u001b[1;32m      4\u001b[0m \u001b[38;5;66;03m# Open the XPT file\u001b[39;00m\n\u001b[0;32m----> 5\u001b[0m \u001b[38;5;28;01mwith\u001b[39;00m \u001b[43mxport\u001b[49m\u001b[38;5;241;43m.\u001b[39;49m\u001b[43mXportReader\u001b[49m\u001b[43m(\u001b[49m\u001b[38;5;124;43m'\u001b[39;49m\u001b[38;5;124;43mLLCP2017.XPT\u001b[39;49m\u001b[38;5;124;43m'\u001b[39;49m\u001b[43m)\u001b[49m \u001b[38;5;28;01mas\u001b[39;00m reader:\n\u001b[1;32m      6\u001b[0m     \n\u001b[1;32m      7\u001b[0m     \u001b[38;5;66;03m# Get the field names from the reader\u001b[39;00m\n\u001b[1;32m      8\u001b[0m     fieldnames \u001b[38;5;241m=\u001b[39m reader\u001b[38;5;241m.\u001b[39mfields\u001b[38;5;241m.\u001b[39mkeys()\n\u001b[1;32m     10\u001b[0m     \u001b[38;5;66;03m# Open the CSV file for writing\u001b[39;00m\n",
      "File \u001b[0;32m~/opt/anaconda3/lib/python3.9/site-packages/xport/__init__.py:839\u001b[0m, in \u001b[0;36mReader.__init__\u001b[0;34m(self, fp)\u001b[0m\n\u001b[1;32m    838\u001b[0m \u001b[38;5;28;01mdef\u001b[39;00m \u001b[38;5;21m__init__\u001b[39m(\u001b[38;5;28mself\u001b[39m, fp):\n\u001b[0;32m--> 839\u001b[0m     \u001b[38;5;28mself\u001b[39m\u001b[38;5;241m.\u001b[39mdataset \u001b[38;5;241m=\u001b[39m \u001b[43mto_dataframe\u001b[49m\u001b[43m(\u001b[49m\u001b[43mfp\u001b[49m\u001b[43m)\u001b[49m\n",
      "File \u001b[0;32m~/opt/anaconda3/lib/python3.9/site-packages/xport/__init__.py:818\u001b[0m, in \u001b[0;36mto_dataframe\u001b[0;34m(fp)\u001b[0m\n\u001b[1;32m    816\u001b[0m \u001b[38;5;28;01mfrom\u001b[39;00m \u001b[38;5;21;01mxport\u001b[39;00m\u001b[38;5;21;01m.\u001b[39;00m\u001b[38;5;21;01mv56\u001b[39;00m \u001b[38;5;28;01mimport\u001b[39;00m load\n\u001b[1;32m    817\u001b[0m warnings\u001b[38;5;241m.\u001b[39mwarn(\u001b[38;5;124m'\u001b[39m\u001b[38;5;124mPlease use ``xport.v56.load`` in the future\u001b[39m\u001b[38;5;124m'\u001b[39m, \u001b[38;5;167;01mDeprecationWarning\u001b[39;00m)\n\u001b[0;32m--> 818\u001b[0m library \u001b[38;5;241m=\u001b[39m \u001b[43mload\u001b[49m\u001b[43m(\u001b[49m\u001b[43mfp\u001b[49m\u001b[43m)\u001b[49m\n\u001b[1;32m    819\u001b[0m dataset \u001b[38;5;241m=\u001b[39m \u001b[38;5;28mnext\u001b[39m(\u001b[38;5;28miter\u001b[39m(library\u001b[38;5;241m.\u001b[39mvalues()))\n\u001b[1;32m    820\u001b[0m \u001b[38;5;28;01mreturn\u001b[39;00m dataset\n",
      "File \u001b[0;32m~/opt/anaconda3/lib/python3.9/site-packages/xport/v56.py:954\u001b[0m, in \u001b[0;36mload\u001b[0;34m(fp)\u001b[0m\n\u001b[1;32m    947\u001b[0m \u001b[38;5;124;03m\"\"\"\u001b[39;00m\n\u001b[1;32m    948\u001b[0m \u001b[38;5;124;03mDeserialize a SAS dataset library from a SAS Transport v5 (XPT) file.\u001b[39;00m\n\u001b[1;32m    949\u001b[0m \n\u001b[1;32m    950\u001b[0m \u001b[38;5;124;03m    >>> with open('test/data/example.xpt', 'rb') as f:\u001b[39;00m\n\u001b[1;32m    951\u001b[0m \u001b[38;5;124;03m    ...     library = load(f)\u001b[39;00m\n\u001b[1;32m    952\u001b[0m \u001b[38;5;124;03m\"\"\"\u001b[39;00m\n\u001b[1;32m    953\u001b[0m \u001b[38;5;28;01mtry\u001b[39;00m:\n\u001b[0;32m--> 954\u001b[0m     bytestring \u001b[38;5;241m=\u001b[39m \u001b[43mfp\u001b[49m\u001b[38;5;241;43m.\u001b[39;49m\u001b[43mread\u001b[49m()\n\u001b[1;32m    955\u001b[0m \u001b[38;5;28;01mexcept\u001b[39;00m \u001b[38;5;167;01mUnicodeDecodeError\u001b[39;00m:\n\u001b[1;32m    956\u001b[0m     \u001b[38;5;28;01mraise\u001b[39;00m \u001b[38;5;167;01mTypeError\u001b[39;00m(\u001b[38;5;124mf\u001b[39m\u001b[38;5;124m'\u001b[39m\u001b[38;5;124mExpected a BufferedReader in bytes-mode, got \u001b[39m\u001b[38;5;132;01m{\u001b[39;00m\u001b[38;5;28mtype\u001b[39m(fp)\u001b[38;5;241m.\u001b[39m\u001b[38;5;18m__name__\u001b[39m\u001b[38;5;132;01m}\u001b[39;00m\u001b[38;5;124m'\u001b[39m)\n",
      "\u001b[0;31mAttributeError\u001b[0m: 'str' object has no attribute 'read'"
     ]
    }
   ],
   "source": [
    "import xport\n",
    "import csv\n",
    "\n",
    "# Open the XPT file\n",
    "with xport.XportReader('LLCP2017.XPT') as reader:\n",
    "    \n",
    "    # Get the field names from the reader\n",
    "    fieldnames = reader.fields.keys()\n",
    "    \n",
    "    # Open the CSV file for writing\n",
    "    with open('LLCP2017.csv', 'w', newline='') as csv_file:\n",
    "        \n",
    "        # Create a CSV writer object\n",
    "        writer = csv.DictWriter(csv_file, fieldnames=fieldnames)\n",
    "        \n",
    "        # Write the header row to the CSV file\n",
    "        writer.writeheader()\n",
    "        \n",
    "        # Iterate through each row in the XPT file\n",
    "        for row in reader:\n",
    "            \n",
    "            # Write the row to the CSV file\n",
    "            writer.writerow(row)\n"
   ]
  },
  {
   "cell_type": "code",
   "execution_count": 10,
   "id": "de6b61dc-1327-4ad6-9f8f-dfb547d4deb2",
   "metadata": {},
   "outputs": [
    {
     "ename": "FileNotFoundError",
     "evalue": "[Errno 2] No such file or directory: 'LLCP2021.XPT'",
     "output_type": "error",
     "traceback": [
      "\u001b[0;31m---------------------------------------------------------------------------\u001b[0m",
      "\u001b[0;31mFileNotFoundError\u001b[0m                         Traceback (most recent call last)",
      "Cell \u001b[0;32mIn[10], line 3\u001b[0m\n\u001b[1;32m      1\u001b[0m \u001b[38;5;28;01mimport\u001b[39;00m \u001b[38;5;21;01mxport\u001b[39;00m\u001b[38;5;21;01m.\u001b[39;00m\u001b[38;5;21;01mv56\u001b[39;00m\n\u001b[0;32m----> 3\u001b[0m \u001b[38;5;28;01mwith\u001b[39;00m \u001b[38;5;28;43mopen\u001b[39;49m\u001b[43m(\u001b[49m\u001b[38;5;124;43m'\u001b[39;49m\u001b[38;5;124;43mLLCP2021.XPT\u001b[39;49m\u001b[38;5;124;43m'\u001b[39;49m\u001b[43m,\u001b[49m\u001b[43m \u001b[49m\u001b[38;5;124;43m'\u001b[39;49m\u001b[38;5;124;43mrb\u001b[39;49m\u001b[38;5;124;43m'\u001b[39;49m\u001b[43m)\u001b[49m \u001b[38;5;28;01mas\u001b[39;00m f:\n\u001b[1;32m      4\u001b[0m     library \u001b[38;5;241m=\u001b[39m xport\u001b[38;5;241m.\u001b[39mv56\u001b[38;5;241m.\u001b[39mload(f)\n\u001b[1;32m      6\u001b[0m \u001b[38;5;66;03m# Access the dataset in the library\u001b[39;00m\n",
      "File \u001b[0;32m~/opt/anaconda3/lib/python3.9/site-packages/IPython/core/interactiveshell.py:282\u001b[0m, in \u001b[0;36m_modified_open\u001b[0;34m(file, *args, **kwargs)\u001b[0m\n\u001b[1;32m    275\u001b[0m \u001b[38;5;28;01mif\u001b[39;00m file \u001b[38;5;129;01min\u001b[39;00m {\u001b[38;5;241m0\u001b[39m, \u001b[38;5;241m1\u001b[39m, \u001b[38;5;241m2\u001b[39m}:\n\u001b[1;32m    276\u001b[0m     \u001b[38;5;28;01mraise\u001b[39;00m \u001b[38;5;167;01mValueError\u001b[39;00m(\n\u001b[1;32m    277\u001b[0m         \u001b[38;5;124mf\u001b[39m\u001b[38;5;124m\"\u001b[39m\u001b[38;5;124mIPython won\u001b[39m\u001b[38;5;124m'\u001b[39m\u001b[38;5;124mt let you open fd=\u001b[39m\u001b[38;5;132;01m{\u001b[39;00mfile\u001b[38;5;132;01m}\u001b[39;00m\u001b[38;5;124m by default \u001b[39m\u001b[38;5;124m\"\u001b[39m\n\u001b[1;32m    278\u001b[0m         \u001b[38;5;124m\"\u001b[39m\u001b[38;5;124mas it is likely to crash IPython. If you know what you are doing, \u001b[39m\u001b[38;5;124m\"\u001b[39m\n\u001b[1;32m    279\u001b[0m         \u001b[38;5;124m\"\u001b[39m\u001b[38;5;124myou can use builtins\u001b[39m\u001b[38;5;124m'\u001b[39m\u001b[38;5;124m open.\u001b[39m\u001b[38;5;124m\"\u001b[39m\n\u001b[1;32m    280\u001b[0m     )\n\u001b[0;32m--> 282\u001b[0m \u001b[38;5;28;01mreturn\u001b[39;00m \u001b[43mio_open\u001b[49m\u001b[43m(\u001b[49m\u001b[43mfile\u001b[49m\u001b[43m,\u001b[49m\u001b[43m \u001b[49m\u001b[38;5;241;43m*\u001b[39;49m\u001b[43margs\u001b[49m\u001b[43m,\u001b[49m\u001b[43m \u001b[49m\u001b[38;5;241;43m*\u001b[39;49m\u001b[38;5;241;43m*\u001b[39;49m\u001b[43mkwargs\u001b[49m\u001b[43m)\u001b[49m\n",
      "\u001b[0;31mFileNotFoundError\u001b[0m: [Errno 2] No such file or directory: 'LLCP2021.XPT'"
     ]
    }
   ],
   "source": [
    "import xport.v56\n",
    "\n",
    "with open('LLCP2021.XPT', 'rb') as f:\n",
    "    library = xport.v56.load(f)\n",
    "\n",
    "# Access the dataset in the library\n",
    "dataset = next(iter(library.values()))\n",
    "\n",
    "# Iterate over the records\n",
    "for row in dataset:\n",
    "    print(row)\n"
   ]
  },
  {
   "cell_type": "code",
   "execution_count": null,
   "id": "02fc6f3f-a6e1-41f8-ba95-86815ad227e6",
   "metadata": {},
   "outputs": [],
   "source": []
  }
 ],
 "metadata": {
  "kernelspec": {
   "display_name": "Python 3 (ipykernel)",
   "language": "python",
   "name": "python3"
  },
  "language_info": {
   "codemirror_mode": {
    "name": "ipython",
    "version": 3
   },
   "file_extension": ".py",
   "mimetype": "text/x-python",
   "name": "python",
   "nbconvert_exporter": "python",
   "pygments_lexer": "ipython3",
   "version": "3.9.16"
  }
 },
 "nbformat": 4,
 "nbformat_minor": 5
}

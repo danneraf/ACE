{
 "cells": [
  {
   "cell_type": "markdown",
   "id": "a5183d23-6616-41f8-b71c-ef25626a87dc",
   "metadata": {},
   "source": [
    "# EDA and Cleaning "
   ]
  },
  {
   "cell_type": "code",
   "execution_count": 1,
   "id": "62987f97-031d-4b6a-9b9e-e5b84eaa9e1c",
   "metadata": {},
   "outputs": [],
   "source": [
    "import pandas as pd\n",
    "import numpy as np \n",
    "import seaborn as sns\n",
    "import matplotlib.pyplot as plt \n",
    "\n",
    "pd.options.display.max_columns = None\n",
    "pd.options.display.max_rows = None "
   ]
  },
  {
   "cell_type": "code",
   "execution_count": 2,
   "id": "12901b5d-a569-4e8e-b43c-309651a25fa4",
   "metadata": {},
   "outputs": [],
   "source": [
    "ace = pd.read_csv('../Datasets/ace.csv')"
   ]
  },
  {
   "cell_type": "code",
   "execution_count": 3,
   "id": "92a634ab-eca3-4669-a727-066353520ce9",
   "metadata": {},
   "outputs": [
    {
     "data": {
      "text/html": [
       "<div>\n",
       "<style scoped>\n",
       "    .dataframe tbody tr th:only-of-type {\n",
       "        vertical-align: middle;\n",
       "    }\n",
       "\n",
       "    .dataframe tbody tr th {\n",
       "        vertical-align: top;\n",
       "    }\n",
       "\n",
       "    .dataframe thead th {\n",
       "        text-align: right;\n",
       "    }\n",
       "</style>\n",
       "<table border=\"1\" class=\"dataframe\">\n",
       "  <thead>\n",
       "    <tr style=\"text-align: right;\">\n",
       "      <th></th>\n",
       "      <th>DIABETE4</th>\n",
       "      <th>BPHIGH6</th>\n",
       "      <th>ACEDEPRS</th>\n",
       "      <th>ACEDRINK</th>\n",
       "      <th>ACEDRUGS</th>\n",
       "      <th>ACEPRISN</th>\n",
       "      <th>ACEDIVRC</th>\n",
       "      <th>ACEPUNCH</th>\n",
       "      <th>ACEHURT1</th>\n",
       "      <th>ACESWEAR</th>\n",
       "      <th>ACETOUCH</th>\n",
       "      <th>ACETTHEM</th>\n",
       "      <th>ACEHVSEX</th>\n",
       "      <th>ACEADSAF</th>\n",
       "      <th>ACEADNED</th>\n",
       "    </tr>\n",
       "  </thead>\n",
       "  <tbody>\n",
       "    <tr>\n",
       "      <th>0</th>\n",
       "      <td>3.0</td>\n",
       "      <td>3.0</td>\n",
       "      <td>2.0</td>\n",
       "      <td>2.0</td>\n",
       "      <td>2.0</td>\n",
       "      <td>2.0</td>\n",
       "      <td>1.0</td>\n",
       "      <td>1.0</td>\n",
       "      <td>1.0</td>\n",
       "      <td>1.0</td>\n",
       "      <td>1.0</td>\n",
       "      <td>1.0</td>\n",
       "      <td>1.0</td>\n",
       "      <td>5.0</td>\n",
       "      <td>3.0</td>\n",
       "    </tr>\n",
       "    <tr>\n",
       "      <th>1</th>\n",
       "      <td>1.0</td>\n",
       "      <td>1.0</td>\n",
       "      <td>2.0</td>\n",
       "      <td>2.0</td>\n",
       "      <td>2.0</td>\n",
       "      <td>2.0</td>\n",
       "      <td>2.0</td>\n",
       "      <td>1.0</td>\n",
       "      <td>1.0</td>\n",
       "      <td>1.0</td>\n",
       "      <td>1.0</td>\n",
       "      <td>1.0</td>\n",
       "      <td>1.0</td>\n",
       "      <td>5.0</td>\n",
       "      <td>5.0</td>\n",
       "    </tr>\n",
       "    <tr>\n",
       "      <th>2</th>\n",
       "      <td>1.0</td>\n",
       "      <td>1.0</td>\n",
       "      <td>2.0</td>\n",
       "      <td>2.0</td>\n",
       "      <td>2.0</td>\n",
       "      <td>2.0</td>\n",
       "      <td>2.0</td>\n",
       "      <td>1.0</td>\n",
       "      <td>1.0</td>\n",
       "      <td>1.0</td>\n",
       "      <td>1.0</td>\n",
       "      <td>1.0</td>\n",
       "      <td>1.0</td>\n",
       "      <td>5.0</td>\n",
       "      <td>5.0</td>\n",
       "    </tr>\n",
       "  </tbody>\n",
       "</table>\n",
       "</div>"
      ],
      "text/plain": [
       "   DIABETE4  BPHIGH6  ACEDEPRS  ACEDRINK  ACEDRUGS  ACEPRISN  ACEDIVRC  \\\n",
       "0       3.0      3.0       2.0       2.0       2.0       2.0       1.0   \n",
       "1       1.0      1.0       2.0       2.0       2.0       2.0       2.0   \n",
       "2       1.0      1.0       2.0       2.0       2.0       2.0       2.0   \n",
       "\n",
       "   ACEPUNCH  ACEHURT1  ACESWEAR  ACETOUCH  ACETTHEM  ACEHVSEX  ACEADSAF  \\\n",
       "0       1.0       1.0       1.0       1.0       1.0       1.0       5.0   \n",
       "1       1.0       1.0       1.0       1.0       1.0       1.0       5.0   \n",
       "2       1.0       1.0       1.0       1.0       1.0       1.0       5.0   \n",
       "\n",
       "   ACEADNED  \n",
       "0       3.0  \n",
       "1       5.0  \n",
       "2       5.0  "
      ]
     },
     "execution_count": 3,
     "metadata": {},
     "output_type": "execute_result"
    }
   ],
   "source": [
    "ace.head(3)"
   ]
  },
  {
   "cell_type": "code",
   "execution_count": 4,
   "id": "e238c81a-750f-4145-a983-8c1ea62deff1",
   "metadata": {},
   "outputs": [
    {
     "data": {
      "text/html": [
       "<div>\n",
       "<style scoped>\n",
       "    .dataframe tbody tr th:only-of-type {\n",
       "        vertical-align: middle;\n",
       "    }\n",
       "\n",
       "    .dataframe tbody tr th {\n",
       "        vertical-align: top;\n",
       "    }\n",
       "\n",
       "    .dataframe thead th {\n",
       "        text-align: right;\n",
       "    }\n",
       "</style>\n",
       "<table border=\"1\" class=\"dataframe\">\n",
       "  <thead>\n",
       "    <tr style=\"text-align: right;\">\n",
       "      <th></th>\n",
       "      <th>count</th>\n",
       "      <th>mean</th>\n",
       "      <th>std</th>\n",
       "      <th>min</th>\n",
       "      <th>25%</th>\n",
       "      <th>50%</th>\n",
       "      <th>75%</th>\n",
       "      <th>max</th>\n",
       "    </tr>\n",
       "  </thead>\n",
       "  <tbody>\n",
       "    <tr>\n",
       "      <th>DIABETE4</th>\n",
       "      <td>438690.0</td>\n",
       "      <td>2.761946</td>\n",
       "      <td>0.743411</td>\n",
       "      <td>1.0</td>\n",
       "      <td>3.0</td>\n",
       "      <td>3.0</td>\n",
       "      <td>3.0</td>\n",
       "      <td>9.0</td>\n",
       "    </tr>\n",
       "    <tr>\n",
       "      <th>BPHIGH6</th>\n",
       "      <td>438691.0</td>\n",
       "      <td>2.238437</td>\n",
       "      <td>1.053716</td>\n",
       "      <td>1.0</td>\n",
       "      <td>1.0</td>\n",
       "      <td>3.0</td>\n",
       "      <td>3.0</td>\n",
       "      <td>9.0</td>\n",
       "    </tr>\n",
       "    <tr>\n",
       "      <th>ACEDEPRS</th>\n",
       "      <td>58763.0</td>\n",
       "      <td>1.986914</td>\n",
       "      <td>1.109956</td>\n",
       "      <td>1.0</td>\n",
       "      <td>2.0</td>\n",
       "      <td>2.0</td>\n",
       "      <td>2.0</td>\n",
       "      <td>9.0</td>\n",
       "    </tr>\n",
       "    <tr>\n",
       "      <th>ACEDRINK</th>\n",
       "      <td>58647.0</td>\n",
       "      <td>1.899637</td>\n",
       "      <td>1.057122</td>\n",
       "      <td>1.0</td>\n",
       "      <td>2.0</td>\n",
       "      <td>2.0</td>\n",
       "      <td>2.0</td>\n",
       "      <td>9.0</td>\n",
       "    </tr>\n",
       "    <tr>\n",
       "      <th>ACEDRUGS</th>\n",
       "      <td>58617.0</td>\n",
       "      <td>2.041456</td>\n",
       "      <td>0.987392</td>\n",
       "      <td>1.0</td>\n",
       "      <td>2.0</td>\n",
       "      <td>2.0</td>\n",
       "      <td>2.0</td>\n",
       "      <td>9.0</td>\n",
       "    </tr>\n",
       "    <tr>\n",
       "      <th>ACEPRISN</th>\n",
       "      <td>58579.0</td>\n",
       "      <td>2.050786</td>\n",
       "      <td>0.923366</td>\n",
       "      <td>1.0</td>\n",
       "      <td>2.0</td>\n",
       "      <td>2.0</td>\n",
       "      <td>2.0</td>\n",
       "      <td>9.0</td>\n",
       "    </tr>\n",
       "    <tr>\n",
       "      <th>ACEDIVRC</th>\n",
       "      <td>58547.0</td>\n",
       "      <td>1.997950</td>\n",
       "      <td>1.297824</td>\n",
       "      <td>1.0</td>\n",
       "      <td>2.0</td>\n",
       "      <td>2.0</td>\n",
       "      <td>2.0</td>\n",
       "      <td>9.0</td>\n",
       "    </tr>\n",
       "    <tr>\n",
       "      <th>ACEPUNCH</th>\n",
       "      <td>58505.0</td>\n",
       "      <td>1.497872</td>\n",
       "      <td>1.424426</td>\n",
       "      <td>1.0</td>\n",
       "      <td>1.0</td>\n",
       "      <td>1.0</td>\n",
       "      <td>1.0</td>\n",
       "      <td>9.0</td>\n",
       "    </tr>\n",
       "    <tr>\n",
       "      <th>ACEHURT1</th>\n",
       "      <td>58461.0</td>\n",
       "      <td>1.587246</td>\n",
       "      <td>1.412484</td>\n",
       "      <td>1.0</td>\n",
       "      <td>1.0</td>\n",
       "      <td>1.0</td>\n",
       "      <td>1.0</td>\n",
       "      <td>9.0</td>\n",
       "    </tr>\n",
       "    <tr>\n",
       "      <th>ACESWEAR</th>\n",
       "      <td>58416.0</td>\n",
       "      <td>1.821111</td>\n",
       "      <td>1.497572</td>\n",
       "      <td>1.0</td>\n",
       "      <td>1.0</td>\n",
       "      <td>1.0</td>\n",
       "      <td>3.0</td>\n",
       "      <td>9.0</td>\n",
       "    </tr>\n",
       "    <tr>\n",
       "      <th>ACETOUCH</th>\n",
       "      <td>58363.0</td>\n",
       "      <td>1.411682</td>\n",
       "      <td>1.415519</td>\n",
       "      <td>1.0</td>\n",
       "      <td>1.0</td>\n",
       "      <td>1.0</td>\n",
       "      <td>1.0</td>\n",
       "      <td>9.0</td>\n",
       "    </tr>\n",
       "    <tr>\n",
       "      <th>ACETTHEM</th>\n",
       "      <td>58319.0</td>\n",
       "      <td>1.356608</td>\n",
       "      <td>1.380968</td>\n",
       "      <td>1.0</td>\n",
       "      <td>1.0</td>\n",
       "      <td>1.0</td>\n",
       "      <td>1.0</td>\n",
       "      <td>9.0</td>\n",
       "    </tr>\n",
       "    <tr>\n",
       "      <th>ACEHVSEX</th>\n",
       "      <td>58278.0</td>\n",
       "      <td>1.298346</td>\n",
       "      <td>1.342530</td>\n",
       "      <td>1.0</td>\n",
       "      <td>1.0</td>\n",
       "      <td>1.0</td>\n",
       "      <td>1.0</td>\n",
       "      <td>9.0</td>\n",
       "    </tr>\n",
       "    <tr>\n",
       "      <th>ACEADSAF</th>\n",
       "      <td>58206.0</td>\n",
       "      <td>4.643353</td>\n",
       "      <td>1.081487</td>\n",
       "      <td>1.0</td>\n",
       "      <td>4.0</td>\n",
       "      <td>5.0</td>\n",
       "      <td>5.0</td>\n",
       "      <td>9.0</td>\n",
       "    </tr>\n",
       "    <tr>\n",
       "      <th>ACEADNED</th>\n",
       "      <td>58156.0</td>\n",
       "      <td>4.827412</td>\n",
       "      <td>0.859133</td>\n",
       "      <td>1.0</td>\n",
       "      <td>5.0</td>\n",
       "      <td>5.0</td>\n",
       "      <td>5.0</td>\n",
       "      <td>9.0</td>\n",
       "    </tr>\n",
       "  </tbody>\n",
       "</table>\n",
       "</div>"
      ],
      "text/plain": [
       "             count      mean       std  min  25%  50%  75%  max\n",
       "DIABETE4  438690.0  2.761946  0.743411  1.0  3.0  3.0  3.0  9.0\n",
       "BPHIGH6   438691.0  2.238437  1.053716  1.0  1.0  3.0  3.0  9.0\n",
       "ACEDEPRS   58763.0  1.986914  1.109956  1.0  2.0  2.0  2.0  9.0\n",
       "ACEDRINK   58647.0  1.899637  1.057122  1.0  2.0  2.0  2.0  9.0\n",
       "ACEDRUGS   58617.0  2.041456  0.987392  1.0  2.0  2.0  2.0  9.0\n",
       "ACEPRISN   58579.0  2.050786  0.923366  1.0  2.0  2.0  2.0  9.0\n",
       "ACEDIVRC   58547.0  1.997950  1.297824  1.0  2.0  2.0  2.0  9.0\n",
       "ACEPUNCH   58505.0  1.497872  1.424426  1.0  1.0  1.0  1.0  9.0\n",
       "ACEHURT1   58461.0  1.587246  1.412484  1.0  1.0  1.0  1.0  9.0\n",
       "ACESWEAR   58416.0  1.821111  1.497572  1.0  1.0  1.0  3.0  9.0\n",
       "ACETOUCH   58363.0  1.411682  1.415519  1.0  1.0  1.0  1.0  9.0\n",
       "ACETTHEM   58319.0  1.356608  1.380968  1.0  1.0  1.0  1.0  9.0\n",
       "ACEHVSEX   58278.0  1.298346  1.342530  1.0  1.0  1.0  1.0  9.0\n",
       "ACEADSAF   58206.0  4.643353  1.081487  1.0  4.0  5.0  5.0  9.0\n",
       "ACEADNED   58156.0  4.827412  0.859133  1.0  5.0  5.0  5.0  9.0"
      ]
     },
     "execution_count": 4,
     "metadata": {},
     "output_type": "execute_result"
    }
   ],
   "source": [
    "ace.describe().transpose()"
   ]
  },
  {
   "cell_type": "code",
   "execution_count": 5,
   "id": "2b7dbb80-b928-4882-ae8b-572d471cfac7",
   "metadata": {},
   "outputs": [
    {
     "data": {
      "text/plain": [
       "DIABETE4    float64\n",
       "BPHIGH6     float64\n",
       "ACEDEPRS    float64\n",
       "ACEDRINK    float64\n",
       "ACEDRUGS    float64\n",
       "ACEPRISN    float64\n",
       "ACEDIVRC    float64\n",
       "ACEPUNCH    float64\n",
       "ACEHURT1    float64\n",
       "ACESWEAR    float64\n",
       "ACETOUCH    float64\n",
       "ACETTHEM    float64\n",
       "ACEHVSEX    float64\n",
       "ACEADSAF    float64\n",
       "ACEADNED    float64\n",
       "dtype: object"
      ]
     },
     "execution_count": 5,
     "metadata": {},
     "output_type": "execute_result"
    }
   ],
   "source": [
    "ace.dtypes"
   ]
  },
  {
   "cell_type": "code",
   "execution_count": 6,
   "id": "ebd06fe1-90ed-4adb-babc-171549ba7526",
   "metadata": {},
   "outputs": [
    {
     "data": {
      "text/plain": [
       "DIABETE4         3\n",
       "BPHIGH6          2\n",
       "ACEDEPRS    379930\n",
       "ACEDRINK    380046\n",
       "ACEDRUGS    380076\n",
       "ACEPRISN    380114\n",
       "ACEDIVRC    380146\n",
       "ACEPUNCH    380188\n",
       "ACEHURT1    380232\n",
       "ACESWEAR    380277\n",
       "ACETOUCH    380330\n",
       "ACETTHEM    380374\n",
       "ACEHVSEX    380415\n",
       "ACEADSAF    380487\n",
       "ACEADNED    380537\n",
       "dtype: int64"
      ]
     },
     "execution_count": 6,
     "metadata": {},
     "output_type": "execute_result"
    }
   ],
   "source": [
    "ace.isnull().sum()"
   ]
  },
  {
   "cell_type": "code",
   "execution_count": 7,
   "id": "1a86ac4a-7505-46de-b1e5-f1c05ddaa639",
   "metadata": {},
   "outputs": [
    {
     "data": {
      "text/plain": [
       "(438693, 15)"
      ]
     },
     "execution_count": 7,
     "metadata": {},
     "output_type": "execute_result"
    }
   ],
   "source": [
    "ace.shape"
   ]
  },
  {
   "cell_type": "markdown",
   "id": "f8a65716-173e-4b5d-aff4-041f8cefa594",
   "metadata": {},
   "source": [
    "#### Diabetes: DIABETE4"
   ]
  },
  {
   "cell_type": "markdown",
   "id": "3399a5fa-7bbd-4fce-bb15-7610cfd861c3",
   "metadata": {},
   "source": [
    "![DIABETE4](../Images/DIABETE4.png)"
   ]
  },
  {
   "cell_type": "markdown",
   "id": "8e326a84-ab16-40e2-9859-b1f0431d38d3",
   "metadata": {},
   "source": [
    "I am replacing values labeled as 2 (gestational diabetes) with 3 (no) because those cases were only during pregnancy and not chronic. I have chosen to replace values labeled as 4 (pre/borderline diabetes) with 1 (yes). Although individuals with pre-diabetes are not yet at the stage of chronic diabetes and have the opportunity to make changes to avoid progressing to diabetes, their condition is still clinically significant and raises concern. They are on the verge of diabetes and could remain at risk."
   ]
  },
  {
   "cell_type": "code",
   "execution_count": 8,
   "id": "b4b94a8c-17da-44bd-9d56-3c3a2c72389f",
   "metadata": {},
   "outputs": [],
   "source": [
    "ace['DIABETE4'] = ace['DIABETE4'].replace({2: 3, 4: 1, 7: None, 9: None})"
   ]
  },
  {
   "cell_type": "code",
   "execution_count": 9,
   "id": "4189b32a-82d5-4339-bdd0-e4c37605f7f2",
   "metadata": {},
   "outputs": [],
   "source": [
    "ace['DIABETE4'] = ace['DIABETE4'].replace({3: 0})"
   ]
  },
  {
   "cell_type": "markdown",
   "id": "b402f1fb-fc24-439b-b659-08cb11faacef",
   "metadata": {},
   "source": [
    "I replaced 3 (no) with 0 for modeling."
   ]
  },
  {
   "cell_type": "code",
   "execution_count": 10,
   "id": "d6cb75c9-a309-4904-97d1-6639737a2b28",
   "metadata": {},
   "outputs": [
    {
     "data": {
      "text/plain": [
       "0.0    370150\n",
       "1.0     67558\n",
       "Name: DIABETE4, dtype: int64"
      ]
     },
     "execution_count": 10,
     "metadata": {},
     "output_type": "execute_result"
    }
   ],
   "source": [
    "ace['DIABETE4'].value_counts() "
   ]
  },
  {
   "cell_type": "markdown",
   "id": "9818a9e9-1b8c-460f-89ef-f1128d4a158b",
   "metadata": {},
   "source": [
    "#### High blood pressure: BPHIGH6"
   ]
  },
  {
   "cell_type": "markdown",
   "id": "4eeadbdd-f113-42dc-8318-9e13fffab581",
   "metadata": {},
   "source": [
    "![BPHIGH6](../Images/BPHIGH6.png)"
   ]
  },
  {
   "cell_type": "markdown",
   "id": "750b95d8-6453-4b0a-9775-d01876ab266c",
   "metadata": {},
   "source": [
    "I am replacing values labeled as 2 (occurring during pregnancy) with 3 (no) because those cases were only present during pregnancy. For values labeled as 4 (pre-hypertension), I have chosen to replace them with 1 (yes). Although individuals with pre-hypertension are not yet classified as having hypertension and have the opportunity to make lifestyle changes to avoid reaching that level, their condition is still clinically significant and raises concern. They are on the verge of developing hypertension and remain at risk."
   ]
  },
  {
   "cell_type": "code",
   "execution_count": 11,
   "id": "de9c8e32-7c43-45fc-9984-a940805a9589",
   "metadata": {},
   "outputs": [],
   "source": [
    "ace['BPHIGH6'] = ace['BPHIGH6'].replace({2: 3, 4: 1, 7: None, 9: None})"
   ]
  },
  {
   "cell_type": "code",
   "execution_count": 12,
   "id": "e09820ca-cdf0-44bd-86fb-bb8c0a1dd93b",
   "metadata": {},
   "outputs": [],
   "source": [
    "ace['BPHIGH6'] = ace['BPHIGH6'].replace({3: 0})"
   ]
  },
  {
   "cell_type": "markdown",
   "id": "225a4cfa-f23b-47a5-92b5-c3c911e63266",
   "metadata": {},
   "source": [
    "I replaced 3 (no) with 0 for modeling. "
   ]
  },
  {
   "cell_type": "code",
   "execution_count": 13,
   "id": "8bd66ff2-dd18-4063-858e-a32c148e8b06",
   "metadata": {},
   "outputs": [
    {
     "data": {
      "text/plain": [
       "0.0    260077\n",
       "1.0    176704\n",
       "Name: BPHIGH6, dtype: int64"
      ]
     },
     "execution_count": 13,
     "metadata": {},
     "output_type": "execute_result"
    }
   ],
   "source": [
    "ace['BPHIGH6'].value_counts() "
   ]
  },
  {
   "cell_type": "markdown",
   "id": "067bd0f3-88ca-4953-bd04-7a9aebcee498",
   "metadata": {},
   "source": [
    "#### Live With Anyone Depressed, Mentally Ill, Or Suicidal: ACEDEPRS"
   ]
  },
  {
   "cell_type": "markdown",
   "id": "bfbb9abe-8187-4299-9c11-845e56a6f42a",
   "metadata": {},
   "source": [
    "![ACEDEPRS](../Images/ACEDEPRS.png)"
   ]
  },
  {
   "cell_type": "markdown",
   "id": "f9637cf6-d1ed-4289-b65e-8494e70f30ef",
   "metadata": {},
   "source": [
    "I am replacing values labeled as 7 (don't know/not sure) with None, as we cannot determine whether or not individuals lived with someone who was depressed, mentally ill, or suicidal based on this information. Replacing this value with either yes or no can potentially distort the results and lead to misleading interpretations."
   ]
  },
  {
   "cell_type": "code",
   "execution_count": 14,
   "id": "28bc1949-58ba-4074-ba04-d9162135ed60",
   "metadata": {},
   "outputs": [],
   "source": [
    "ace['ACEDEPRS'] = ace['ACEDEPRS'].replace({7: None, 9: None})"
   ]
  },
  {
   "cell_type": "code",
   "execution_count": 15,
   "id": "9e29dd45-6f74-45f4-baba-0e97e28afb4d",
   "metadata": {},
   "outputs": [
    {
     "data": {
      "text/plain": [
       "2.0    46934\n",
       "1.0    10326\n",
       "Name: ACEDEPRS, dtype: int64"
      ]
     },
     "execution_count": 15,
     "metadata": {},
     "output_type": "execute_result"
    }
   ],
   "source": [
    "ace['ACEDEPRS'].value_counts() "
   ]
  },
  {
   "cell_type": "markdown",
   "id": "0bf13a14-936d-46a2-8ebf-de85454ca396",
   "metadata": {},
   "source": [
    "#### Live With a Problem Drinker/Alcoholic: ACEDRINK "
   ]
  },
  {
   "cell_type": "markdown",
   "id": "e087ada6-85e5-48f4-af2f-c6d874376ef0",
   "metadata": {},
   "source": [
    "![ACEDRINK](../Images/ACEDRINK.png)"
   ]
  },
  {
   "cell_type": "markdown",
   "id": "faee63b0-b74d-480e-adff-f8b1659fc5e9",
   "metadata": {},
   "source": [
    "I am replacing values labeled as 7 (don't know/not sure) with None, as we cannot determine whether or not individuals lived with someone who was a problem drinker/had alcohol use disorder based on this information. Replacing this value with either yes or no can potentially distort the results and lead to misleading interpretations. "
   ]
  },
  {
   "cell_type": "code",
   "execution_count": 16,
   "id": "35c09f6b-7c04-4ca0-aef4-c6d133932cd0",
   "metadata": {},
   "outputs": [],
   "source": [
    "ace['ACEDRINK'] = ace['ACEDRINK'].replace({7: None, 9: None})"
   ]
  },
  {
   "cell_type": "code",
   "execution_count": 17,
   "id": "ab085336-fe64-4ebc-af66-b1a442265ef0",
   "metadata": {},
   "outputs": [
    {
     "data": {
      "text/plain": [
       "2.0    43807\n",
       "1.0    13670\n",
       "Name: ACEDRINK, dtype: int64"
      ]
     },
     "execution_count": 17,
     "metadata": {},
     "output_type": "execute_result"
    }
   ],
   "source": [
    "ace['ACEDRINK'].value_counts() "
   ]
  },
  {
   "cell_type": "markdown",
   "id": "8094a9d6-4597-471f-8e5b-424d2167e51f",
   "metadata": {},
   "source": [
    "#### Live With Anyone Who Used Illegal Drugs or Abused Prescriptions: ACEDRUGS"
   ]
  },
  {
   "cell_type": "markdown",
   "id": "5970d9ef-3150-4fe6-86ea-08e003ecb3e9",
   "metadata": {},
   "source": [
    "![ACEDRUGS](../Images/ACEDRUGS.png)"
   ]
  },
  {
   "cell_type": "markdown",
   "id": "08fedb61-082c-4e65-b061-d282d2fe75c9",
   "metadata": {},
   "source": [
    "I am replacing values labeled as 7 (don't know/not sure) with None, as we cannot determine whether or not individuals lived with someone who had a substance use disorder or used illegal drugs based on this information. Replacing this value with either yes or no can potentially distort the results and lead to misleading interpretations. "
   ]
  },
  {
   "cell_type": "code",
   "execution_count": 18,
   "id": "9ac5be4f-bc0d-48ed-b412-e39000515960",
   "metadata": {},
   "outputs": [],
   "source": [
    "ace['ACEDRUGS'] = ace['ACEDRUGS'].replace({7: None, 9: None})"
   ]
  },
  {
   "cell_type": "code",
   "execution_count": 19,
   "id": "4ddbbb5e-dc3d-43f8-ac3b-8dc8026a3d6b",
   "metadata": {},
   "outputs": [
    {
     "data": {
      "text/plain": [
       "2.0    52033\n",
       "1.0     5386\n",
       "Name: ACEDRUGS, dtype: int64"
      ]
     },
     "execution_count": 19,
     "metadata": {},
     "output_type": "execute_result"
    }
   ],
   "source": [
    "ace['ACEDRUGS'].value_counts() "
   ]
  },
  {
   "cell_type": "markdown",
   "id": "bdd00dc5-a1b3-4940-a3da-2cf009c2b9b5",
   "metadata": {},
   "source": [
    "#### Live With Anyone Who Served TIme in Prison or Jail: ACEPRISN "
   ]
  },
  {
   "cell_type": "markdown",
   "id": "15c9d634-a3e7-4d0c-99af-a809de834212",
   "metadata": {},
   "source": [
    "![ACEPRISN](../Images/ACEPRISN.png)"
   ]
  },
  {
   "cell_type": "markdown",
   "id": "9a942e5d-a59f-46f0-a65b-a347594a4d03",
   "metadata": {},
   "source": [
    "I am replacing values labeled as 7 (don't know/not sure) with None, as we cannot determine whether or not individuals lived with someone who spent time in prison/jail based on this information. Replacing this value with either yes or no can potentially distort the results and lead to misleading interpretations."
   ]
  },
  {
   "cell_type": "code",
   "execution_count": 20,
   "id": "4634b837-1291-472a-8e39-5e51bbec9ad6",
   "metadata": {},
   "outputs": [],
   "source": [
    "ace['ACEPRISN'] = ace['ACEPRISN'].replace({7: None, 9: None})"
   ]
  },
  {
   "cell_type": "code",
   "execution_count": 21,
   "id": "daf0ff87-3efb-41aa-9cb2-0ea9bb3f8871",
   "metadata": {},
   "outputs": [
    {
     "data": {
      "text/plain": [
       "2.0    53724\n",
       "1.0     3840\n",
       "Name: ACEPRISN, dtype: int64"
      ]
     },
     "execution_count": 21,
     "metadata": {},
     "output_type": "execute_result"
    }
   ],
   "source": [
    "ace['ACEPRISN'].value_counts() "
   ]
  },
  {
   "cell_type": "markdown",
   "id": "479fcbe0-7aaf-4e39-9bee-3bccea6b63b8",
   "metadata": {},
   "source": [
    "#### Were Your Parents Divorced/Seperated: ACEDIVRC"
   ]
  },
  {
   "cell_type": "markdown",
   "id": "c1d45344-e9c5-45d0-8bb8-fa55f6ed8832",
   "metadata": {},
   "source": [
    "![ACEDIVRC](../Images/ACEDIVRC.png)"
   ]
  },
  {
   "cell_type": "markdown",
   "id": "d2e9ae45-6182-422d-8618-abfd1323227f",
   "metadata": {},
   "source": [
    "I am replacing values labeled as 8 (parents not married) with 1 (yes), as the question aims to determine whether an individual's parents were not together. Answering that they were not married likely implies that they were not together. Although it is possible for parents to stay together without getting married, I believe the size of this group will not significantly skew the results."
   ]
  },
  {
   "cell_type": "code",
   "execution_count": 22,
   "id": "d1392586-72c0-47e4-a1fc-a190b1723c9d",
   "metadata": {},
   "outputs": [],
   "source": [
    "ace['ACEDIVRC'] = ace['ACEDIVRC'].replace({8: 1, 7: None, 9: None})"
   ]
  },
  {
   "cell_type": "code",
   "execution_count": 23,
   "id": "386e7363-7bb6-4e23-9d0a-bd2e463399ab",
   "metadata": {},
   "outputs": [
    {
     "data": {
      "text/plain": [
       "2.0    42957\n",
       "1.0    14328\n",
       "Name: ACEDIVRC, dtype: int64"
      ]
     },
     "execution_count": 23,
     "metadata": {},
     "output_type": "execute_result"
    }
   ],
   "source": [
    "ace['ACEDIVRC'].value_counts()  "
   ]
  },
  {
   "cell_type": "markdown",
   "id": "9f2f0506-ae1d-4001-b8ce-9877822e9499",
   "metadata": {},
   "source": [
    "#### How Often Did Your Parents Beat Each Other Up: ACEPUNCH"
   ]
  },
  {
   "cell_type": "markdown",
   "id": "58721340-0aa4-4dab-9f07-5d0ad339e74b",
   "metadata": {},
   "source": [
    "![ACEPUNCH](../Images/ACEPUNCH.png)"
   ]
  },
  {
   "cell_type": "markdown",
   "id": "0979e133-dae9-41b4-9e90-6b4dcbeadaf0",
   "metadata": {},
   "source": [
    "I am replacing 3 (more than once) with 2 (once) to group the two values together, making the groups 1 (never) and 2 (has happened)."
   ]
  },
  {
   "cell_type": "code",
   "execution_count": 24,
   "id": "a2635716-e856-49f0-b619-5eecbcad6071",
   "metadata": {},
   "outputs": [],
   "source": [
    "ace['ACEPUNCH'] = ace['ACEPUNCH'].replace({3: 2, 7: None, 9: None})"
   ]
  },
  {
   "cell_type": "code",
   "execution_count": 25,
   "id": "6c8ddcd5-1f59-4336-8758-d9f1677a1552",
   "metadata": {},
   "outputs": [
    {
     "data": {
      "text/plain": [
       "1.0    48044\n",
       "2.0     8501\n",
       "Name: ACEPUNCH, dtype: int64"
      ]
     },
     "execution_count": 25,
     "metadata": {},
     "output_type": "execute_result"
    }
   ],
   "source": [
    "ace['ACEPUNCH'].value_counts() "
   ]
  },
  {
   "cell_type": "markdown",
   "id": "f0b26639-927c-4ff5-a486-87f634219637",
   "metadata": {},
   "source": [
    "#### How Often Did A Parent Physically Hurt You In Any Way: ACEHURT1 "
   ]
  },
  {
   "cell_type": "markdown",
   "id": "059dadb1-e3b8-47f6-a4cc-73b966a521b6",
   "metadata": {},
   "source": [
    "![ACEHURT1](../Images/ACEHURT1.png)"
   ]
  },
  {
   "cell_type": "markdown",
   "id": "80245599-2695-47f0-bb4c-ced6e6b072f8",
   "metadata": {},
   "source": [
    "I am replacing 3 (more than once) with 2 (once) to group the two values together, making the groups 1 (never) and 2 (has happened)."
   ]
  },
  {
   "cell_type": "code",
   "execution_count": 26,
   "id": "cf709300-cee5-41a4-8f7b-5aa1baa59eac",
   "metadata": {},
   "outputs": [],
   "source": [
    "ace['ACEHURT1'] = ace['ACEHURT1'].replace({3: 2, 7: None, 9: None})"
   ]
  },
  {
   "cell_type": "code",
   "execution_count": 27,
   "id": "6cd2f715-e782-47ff-8178-5f98a1716eb3",
   "metadata": {},
   "outputs": [
    {
     "data": {
      "text/plain": [
       "1.0    44172\n",
       "2.0    12622\n",
       "Name: ACEHURT1, dtype: int64"
      ]
     },
     "execution_count": 27,
     "metadata": {},
     "output_type": "execute_result"
    }
   ],
   "source": [
    "ace['ACEHURT1'].value_counts() "
   ]
  },
  {
   "cell_type": "markdown",
   "id": "bd3b3320-117b-4989-b4d4-7d79590c1094",
   "metadata": {},
   "source": [
    "#### How Often Did A Parent Swear At You: ACESWEAR"
   ]
  },
  {
   "cell_type": "markdown",
   "id": "c32c3515-b8e5-4261-a372-ac3799126734",
   "metadata": {},
   "source": [
    "![ACESWEAR](../Images/ACESWEAR.png)"
   ]
  },
  {
   "cell_type": "markdown",
   "id": "b1f681cf-4f8f-4b9e-ac31-0d35181c88aa",
   "metadata": {},
   "source": [
    "I am replacing 3 (more than once) with 2 (once) to group the two values together, making the groups 1 (never) and 2 (has happened). "
   ]
  },
  {
   "cell_type": "code",
   "execution_count": 28,
   "id": "203b0e92-c002-4a78-a654-2c56407c4567",
   "metadata": {},
   "outputs": [],
   "source": [
    "ace['ACESWEAR'] = ace['ACESWEAR'].replace({3: 2, 7: None, 9: None})"
   ]
  },
  {
   "cell_type": "code",
   "execution_count": 29,
   "id": "9a97031f-e50e-4bd4-a2f5-b67b97dd04ed",
   "metadata": {},
   "outputs": [
    {
     "data": {
      "text/plain": [
       "1.0    37999\n",
       "2.0    18508\n",
       "Name: ACESWEAR, dtype: int64"
      ]
     },
     "execution_count": 29,
     "metadata": {},
     "output_type": "execute_result"
    }
   ],
   "source": [
    "ace['ACESWEAR'].value_counts()"
   ]
  },
  {
   "cell_type": "markdown",
   "id": "13af3ddc-a8a8-4c89-a22c-94c51faaa7d3",
   "metadata": {},
   "source": [
    "#### How Often Did Anyone Ever Touch You Sexually: ACETOUCH"
   ]
  },
  {
   "cell_type": "markdown",
   "id": "67942686-74e6-412a-a7c9-224edc7581fd",
   "metadata": {},
   "source": [
    "![ACETOUCH](../Images/ACETOUCH.png)"
   ]
  },
  {
   "cell_type": "markdown",
   "id": "dfcda71b-2565-4e62-b781-60430aaf8ad3",
   "metadata": {},
   "source": [
    "I am replacing 3 (more than once) with 2 (once) to group the two values together, making the groups 1 (never) and 2 (has happened)."
   ]
  },
  {
   "cell_type": "code",
   "execution_count": 30,
   "id": "e2779b7a-d04d-43b9-b840-7192c8968bc1",
   "metadata": {},
   "outputs": [],
   "source": [
    "ace['ACETOUCH'] = ace['ACETOUCH'].replace({3: 2, 7: None, 9: None})"
   ]
  },
  {
   "cell_type": "code",
   "execution_count": 31,
   "id": "6ae3887c-26cc-4fce-8dfc-b596d46ee680",
   "metadata": {},
   "outputs": [
    {
     "data": {
      "text/plain": [
       "1.0    50392\n",
       "2.0     6181\n",
       "Name: ACETOUCH, dtype: int64"
      ]
     },
     "execution_count": 31,
     "metadata": {},
     "output_type": "execute_result"
    }
   ],
   "source": [
    "ace['ACETOUCH'].value_counts() "
   ]
  },
  {
   "cell_type": "markdown",
   "id": "6886577b-e65b-4819-b3f9-a981ea566f17",
   "metadata": {},
   "source": [
    "#### How Often Did Anyone Make You Touch Them Sexually: ACETTHEM"
   ]
  },
  {
   "cell_type": "markdown",
   "id": "bae394fe-6da9-4166-be56-b57557603938",
   "metadata": {},
   "source": [
    "![ACETTHEM](../Images/ACETTHEM.png)"
   ]
  },
  {
   "cell_type": "markdown",
   "id": "a24a2b65-a5cb-4d36-9642-88b24ea13c32",
   "metadata": {},
   "source": [
    "I am replacing 3 (more than once) with 2 (once) to group the two values together, making the groups 1 (never) and 2 (has happened)."
   ]
  },
  {
   "cell_type": "code",
   "execution_count": 32,
   "id": "33b740be-b1a6-4716-b208-152b287ad132",
   "metadata": {},
   "outputs": [],
   "source": [
    "ace['ACETTHEM'] = ace['ACETTHEM'].replace({3: 2, 7: None, 9: None})"
   ]
  },
  {
   "cell_type": "code",
   "execution_count": 33,
   "id": "ed4766ec-25d6-4a7f-8a68-aa4623d0884f",
   "metadata": {},
   "outputs": [
    {
     "data": {
      "text/plain": [
       "1.0    52095\n",
       "2.0     4478\n",
       "Name: ACETTHEM, dtype: int64"
      ]
     },
     "execution_count": 33,
     "metadata": {},
     "output_type": "execute_result"
    }
   ],
   "source": [
    "ace['ACETTHEM'].value_counts() "
   ]
  },
  {
   "cell_type": "markdown",
   "id": "1c43ae3b-047c-4e3b-8604-ac2a05189013",
   "metadata": {},
   "source": [
    "#### How Often Did Anyone Ever Force You to Have Sex: ACEHVSEX"
   ]
  },
  {
   "cell_type": "markdown",
   "id": "01e80925-38f1-418c-9a95-2ad0f44b74a2",
   "metadata": {},
   "source": [
    "![ACEHVSEX](../Images/ACEHVSEX.png)"
   ]
  },
  {
   "cell_type": "markdown",
   "id": "ce4dd45a-6054-425d-bc00-93fe26a6008c",
   "metadata": {},
   "source": [
    "I am replacing 3 (more than once) with 2 (once) to group the two values together, making the groups 1 (never) and 2 (has happened)."
   ]
  },
  {
   "cell_type": "code",
   "execution_count": 34,
   "id": "396b547b-8f21-42a4-af99-6d4b47479d68",
   "metadata": {},
   "outputs": [],
   "source": [
    "ace['ACEHVSEX'] = ace['ACEHVSEX'].replace({3: 2, 7: None, 9: None})"
   ]
  },
  {
   "cell_type": "code",
   "execution_count": 35,
   "id": "6a4a089a-ab81-4948-9cd5-07a5e8171f9f",
   "metadata": {},
   "outputs": [
    {
     "data": {
      "text/plain": [
       "1.0    53993\n",
       "2.0     2600\n",
       "Name: ACEHVSEX, dtype: int64"
      ]
     },
     "execution_count": 35,
     "metadata": {},
     "output_type": "execute_result"
    }
   ],
   "source": [
    "ace['ACEHVSEX'].value_counts() "
   ]
  },
  {
   "cell_type": "markdown",
   "id": "2b5c77fd-e161-40d9-8322-d8aa4bf311f4",
   "metadata": {},
   "source": [
    "#### Did an adult make you feel safe and protected: ACEADSAF"
   ]
  },
  {
   "cell_type": "markdown",
   "id": "8df5b78d-0a34-4260-afeb-5ff99d5d6cad",
   "metadata": {},
   "source": [
    "![ACEADSAF](../Images/ACEADSAF.png)"
   ]
  },
  {
   "cell_type": "markdown",
   "id": "ef21286a-f716-4c65-8dd6-a9baea9cc3fd",
   "metadata": {},
   "source": [
    "I am replacing 2 (little), 3 (some), 4 (most) with 1 (never) to group the values together, making the groups 1 (times there were not) and 2 (all)."
   ]
  },
  {
   "cell_type": "code",
   "execution_count": 36,
   "id": "3b644bf4-f835-42f9-8b0d-dcf897f3d400",
   "metadata": {},
   "outputs": [],
   "source": [
    "ace['ACEADSAF'] = ace['ACEADSAF'].replace({2: 1, 3: 1, 4: 1, 7: None, 9: None}) "
   ]
  },
  {
   "cell_type": "code",
   "execution_count": 37,
   "id": "9dff17aa-94db-4314-9581-801eb1ded951",
   "metadata": {},
   "outputs": [],
   "source": [
    "ace['ACEADSAF'] = ace['ACEADSAF'].replace({5: 2}) "
   ]
  },
  {
   "cell_type": "code",
   "execution_count": 38,
   "id": "4f28486a-15e1-454f-8408-03a5cfcc90b8",
   "metadata": {},
   "outputs": [
    {
     "data": {
      "text/plain": [
       "2.0    42405\n",
       "1.0    14616\n",
       "Name: ACEADSAF, dtype: int64"
      ]
     },
     "execution_count": 38,
     "metadata": {},
     "output_type": "execute_result"
    }
   ],
   "source": [
    "ace['ACEADSAF'].value_counts() "
   ]
  },
  {
   "cell_type": "markdown",
   "id": "0001d3b8-76d0-4282-8633-98c455d1ecc5",
   "metadata": {},
   "source": [
    "#### Did an adult make sure basic needs were met: ACEADNED"
   ]
  },
  {
   "cell_type": "markdown",
   "id": "da3cf8bb-0e51-43f3-9379-e5407ab1e4a3",
   "metadata": {},
   "source": [
    "![ACEADNED](../Images/ACEADNED.png)"
   ]
  },
  {
   "cell_type": "markdown",
   "id": "a915829b-bfda-4661-8f1e-888ec4408730",
   "metadata": {},
   "source": [
    "I am replacing 2 (little), 3 (some), 4 (most) with 1 (never) to group the values together, making the groups 1 (times there were not) and 2 (all)."
   ]
  },
  {
   "cell_type": "code",
   "execution_count": 39,
   "id": "fbf76a97-2453-4881-b9aa-7d1d1ec3f658",
   "metadata": {},
   "outputs": [],
   "source": [
    "ace['ACEADNED'] = ace['ACEADNED'].replace({2: 1, 3: 1, 4: 1, 7: None, 9: None}) "
   ]
  },
  {
   "cell_type": "code",
   "execution_count": 40,
   "id": "d7d42442-6684-41fa-81ee-63068e4e1b67",
   "metadata": {},
   "outputs": [],
   "source": [
    "ace['ACEADNED'] = ace['ACEADNED'].replace({5: 2}) "
   ]
  },
  {
   "cell_type": "code",
   "execution_count": 41,
   "id": "dbbf1769-89fc-4637-b18c-8ee8bbefb311",
   "metadata": {},
   "outputs": [
    {
     "data": {
      "text/plain": [
       "2.0    48267\n",
       "1.0     8845\n",
       "Name: ACEADNED, dtype: int64"
      ]
     },
     "execution_count": 41,
     "metadata": {},
     "output_type": "execute_result"
    }
   ],
   "source": [
    "ace['ACEADNED'].value_counts() "
   ]
  },
  {
   "cell_type": "markdown",
   "id": "8939b150-fe1e-45f4-b0f0-62cd104a7a8d",
   "metadata": {},
   "source": [
    "### Missing Values"
   ]
  },
  {
   "cell_type": "code",
   "execution_count": 42,
   "id": "ed792af3-ba22-4b85-b060-7faa7cab700f",
   "metadata": {},
   "outputs": [
    {
     "data": {
      "text/html": [
       "<div>\n",
       "<style scoped>\n",
       "    .dataframe tbody tr th:only-of-type {\n",
       "        vertical-align: middle;\n",
       "    }\n",
       "\n",
       "    .dataframe tbody tr th {\n",
       "        vertical-align: top;\n",
       "    }\n",
       "\n",
       "    .dataframe thead th {\n",
       "        text-align: right;\n",
       "    }\n",
       "</style>\n",
       "<table border=\"1\" class=\"dataframe\">\n",
       "  <thead>\n",
       "    <tr style=\"text-align: right;\">\n",
       "      <th></th>\n",
       "      <th>count</th>\n",
       "      <th>mean</th>\n",
       "      <th>std</th>\n",
       "      <th>min</th>\n",
       "      <th>25%</th>\n",
       "      <th>50%</th>\n",
       "      <th>75%</th>\n",
       "      <th>max</th>\n",
       "    </tr>\n",
       "  </thead>\n",
       "  <tbody>\n",
       "    <tr>\n",
       "      <th>DIABETE4</th>\n",
       "      <td>437708.0</td>\n",
       "      <td>0.154345</td>\n",
       "      <td>0.361279</td>\n",
       "      <td>0.0</td>\n",
       "      <td>0.0</td>\n",
       "      <td>0.0</td>\n",
       "      <td>0.0</td>\n",
       "      <td>1.0</td>\n",
       "    </tr>\n",
       "    <tr>\n",
       "      <th>BPHIGH6</th>\n",
       "      <td>436781.0</td>\n",
       "      <td>0.404560</td>\n",
       "      <td>0.490807</td>\n",
       "      <td>0.0</td>\n",
       "      <td>0.0</td>\n",
       "      <td>0.0</td>\n",
       "      <td>1.0</td>\n",
       "      <td>1.0</td>\n",
       "    </tr>\n",
       "    <tr>\n",
       "      <th>ACEDEPRS</th>\n",
       "      <td>57260.0</td>\n",
       "      <td>1.819665</td>\n",
       "      <td>0.384470</td>\n",
       "      <td>1.0</td>\n",
       "      <td>2.0</td>\n",
       "      <td>2.0</td>\n",
       "      <td>2.0</td>\n",
       "      <td>2.0</td>\n",
       "    </tr>\n",
       "    <tr>\n",
       "      <th>ACEDRINK</th>\n",
       "      <td>57477.0</td>\n",
       "      <td>1.762166</td>\n",
       "      <td>0.425761</td>\n",
       "      <td>1.0</td>\n",
       "      <td>2.0</td>\n",
       "      <td>2.0</td>\n",
       "      <td>2.0</td>\n",
       "      <td>2.0</td>\n",
       "    </tr>\n",
       "    <tr>\n",
       "      <th>ACEDRUGS</th>\n",
       "      <td>57419.0</td>\n",
       "      <td>1.906198</td>\n",
       "      <td>0.291555</td>\n",
       "      <td>1.0</td>\n",
       "      <td>2.0</td>\n",
       "      <td>2.0</td>\n",
       "      <td>2.0</td>\n",
       "      <td>2.0</td>\n",
       "    </tr>\n",
       "    <tr>\n",
       "      <th>ACEPRISN</th>\n",
       "      <td>57564.0</td>\n",
       "      <td>1.933292</td>\n",
       "      <td>0.249518</td>\n",
       "      <td>1.0</td>\n",
       "      <td>2.0</td>\n",
       "      <td>2.0</td>\n",
       "      <td>2.0</td>\n",
       "      <td>2.0</td>\n",
       "    </tr>\n",
       "    <tr>\n",
       "      <th>ACEDIVRC</th>\n",
       "      <td>57285.0</td>\n",
       "      <td>1.749882</td>\n",
       "      <td>0.433084</td>\n",
       "      <td>1.0</td>\n",
       "      <td>1.0</td>\n",
       "      <td>2.0</td>\n",
       "      <td>2.0</td>\n",
       "      <td>2.0</td>\n",
       "    </tr>\n",
       "    <tr>\n",
       "      <th>ACEPUNCH</th>\n",
       "      <td>56545.0</td>\n",
       "      <td>1.150340</td>\n",
       "      <td>0.357408</td>\n",
       "      <td>1.0</td>\n",
       "      <td>1.0</td>\n",
       "      <td>1.0</td>\n",
       "      <td>1.0</td>\n",
       "      <td>2.0</td>\n",
       "    </tr>\n",
       "    <tr>\n",
       "      <th>ACEHURT1</th>\n",
       "      <td>56794.0</td>\n",
       "      <td>1.222242</td>\n",
       "      <td>0.415756</td>\n",
       "      <td>1.0</td>\n",
       "      <td>1.0</td>\n",
       "      <td>1.0</td>\n",
       "      <td>1.0</td>\n",
       "      <td>2.0</td>\n",
       "    </tr>\n",
       "    <tr>\n",
       "      <th>ACESWEAR</th>\n",
       "      <td>56507.0</td>\n",
       "      <td>1.327535</td>\n",
       "      <td>0.469318</td>\n",
       "      <td>1.0</td>\n",
       "      <td>1.0</td>\n",
       "      <td>1.0</td>\n",
       "      <td>2.0</td>\n",
       "      <td>2.0</td>\n",
       "    </tr>\n",
       "    <tr>\n",
       "      <th>ACETOUCH</th>\n",
       "      <td>56573.0</td>\n",
       "      <td>1.109257</td>\n",
       "      <td>0.311964</td>\n",
       "      <td>1.0</td>\n",
       "      <td>1.0</td>\n",
       "      <td>1.0</td>\n",
       "      <td>1.0</td>\n",
       "      <td>2.0</td>\n",
       "    </tr>\n",
       "    <tr>\n",
       "      <th>ACETTHEM</th>\n",
       "      <td>56573.0</td>\n",
       "      <td>1.079154</td>\n",
       "      <td>0.269982</td>\n",
       "      <td>1.0</td>\n",
       "      <td>1.0</td>\n",
       "      <td>1.0</td>\n",
       "      <td>1.0</td>\n",
       "      <td>2.0</td>\n",
       "    </tr>\n",
       "    <tr>\n",
       "      <th>ACEHVSEX</th>\n",
       "      <td>56593.0</td>\n",
       "      <td>1.045942</td>\n",
       "      <td>0.209361</td>\n",
       "      <td>1.0</td>\n",
       "      <td>1.0</td>\n",
       "      <td>1.0</td>\n",
       "      <td>1.0</td>\n",
       "      <td>2.0</td>\n",
       "    </tr>\n",
       "    <tr>\n",
       "      <th>ACEADSAF</th>\n",
       "      <td>57021.0</td>\n",
       "      <td>1.743673</td>\n",
       "      <td>0.436608</td>\n",
       "      <td>1.0</td>\n",
       "      <td>1.0</td>\n",
       "      <td>2.0</td>\n",
       "      <td>2.0</td>\n",
       "      <td>2.0</td>\n",
       "    </tr>\n",
       "    <tr>\n",
       "      <th>ACEADNED</th>\n",
       "      <td>57112.0</td>\n",
       "      <td>1.845129</td>\n",
       "      <td>0.361785</td>\n",
       "      <td>1.0</td>\n",
       "      <td>2.0</td>\n",
       "      <td>2.0</td>\n",
       "      <td>2.0</td>\n",
       "      <td>2.0</td>\n",
       "    </tr>\n",
       "  </tbody>\n",
       "</table>\n",
       "</div>"
      ],
      "text/plain": [
       "             count      mean       std  min  25%  50%  75%  max\n",
       "DIABETE4  437708.0  0.154345  0.361279  0.0  0.0  0.0  0.0  1.0\n",
       "BPHIGH6   436781.0  0.404560  0.490807  0.0  0.0  0.0  1.0  1.0\n",
       "ACEDEPRS   57260.0  1.819665  0.384470  1.0  2.0  2.0  2.0  2.0\n",
       "ACEDRINK   57477.0  1.762166  0.425761  1.0  2.0  2.0  2.0  2.0\n",
       "ACEDRUGS   57419.0  1.906198  0.291555  1.0  2.0  2.0  2.0  2.0\n",
       "ACEPRISN   57564.0  1.933292  0.249518  1.0  2.0  2.0  2.0  2.0\n",
       "ACEDIVRC   57285.0  1.749882  0.433084  1.0  1.0  2.0  2.0  2.0\n",
       "ACEPUNCH   56545.0  1.150340  0.357408  1.0  1.0  1.0  1.0  2.0\n",
       "ACEHURT1   56794.0  1.222242  0.415756  1.0  1.0  1.0  1.0  2.0\n",
       "ACESWEAR   56507.0  1.327535  0.469318  1.0  1.0  1.0  2.0  2.0\n",
       "ACETOUCH   56573.0  1.109257  0.311964  1.0  1.0  1.0  1.0  2.0\n",
       "ACETTHEM   56573.0  1.079154  0.269982  1.0  1.0  1.0  1.0  2.0\n",
       "ACEHVSEX   56593.0  1.045942  0.209361  1.0  1.0  1.0  1.0  2.0\n",
       "ACEADSAF   57021.0  1.743673  0.436608  1.0  1.0  2.0  2.0  2.0\n",
       "ACEADNED   57112.0  1.845129  0.361785  1.0  2.0  2.0  2.0  2.0"
      ]
     },
     "execution_count": 42,
     "metadata": {},
     "output_type": "execute_result"
    }
   ],
   "source": [
    "ace.describe().transpose() "
   ]
  },
  {
   "cell_type": "code",
   "execution_count": 43,
   "id": "42d80b31-ac03-4a5a-8921-2a1efc9662c5",
   "metadata": {},
   "outputs": [
    {
     "data": {
      "text/plain": [
       "DIABETE4       985\n",
       "BPHIGH6       1912\n",
       "ACEDEPRS    381433\n",
       "ACEDRINK    381216\n",
       "ACEDRUGS    381274\n",
       "ACEPRISN    381129\n",
       "ACEDIVRC    381408\n",
       "ACEPUNCH    382148\n",
       "ACEHURT1    381899\n",
       "ACESWEAR    382186\n",
       "ACETOUCH    382120\n",
       "ACETTHEM    382120\n",
       "ACEHVSEX    382100\n",
       "ACEADSAF    381672\n",
       "ACEADNED    381581\n",
       "dtype: int64"
      ]
     },
     "execution_count": 43,
     "metadata": {},
     "output_type": "execute_result"
    }
   ],
   "source": [
    "ace.isnull().sum()"
   ]
  },
  {
   "cell_type": "code",
   "execution_count": 44,
   "id": "5096a135-c607-4a0a-b451-e34a2d26b18e",
   "metadata": {},
   "outputs": [],
   "source": [
    "ace = ace.dropna(subset=['DIABETE4', 'BPHIGH6'])"
   ]
  },
  {
   "cell_type": "code",
   "execution_count": 45,
   "id": "80e9a948-a8b7-46c5-b36f-64cbc0e3419e",
   "metadata": {},
   "outputs": [
    {
     "data": {
      "text/plain": [
       "DIABETE4         0\n",
       "BPHIGH6          0\n",
       "ACEDEPRS    379023\n",
       "ACEDRINK    378807\n",
       "ACEDRUGS    378867\n",
       "ACEPRISN    378723\n",
       "ACEDIVRC    378996\n",
       "ACEPUNCH    379733\n",
       "ACEHURT1    379487\n",
       "ACESWEAR    379766\n",
       "ACETOUCH    379706\n",
       "ACETTHEM    379708\n",
       "ACEHVSEX    379686\n",
       "ACEADSAF    379258\n",
       "ACEADNED    379170\n",
       "dtype: int64"
      ]
     },
     "execution_count": 45,
     "metadata": {},
     "output_type": "execute_result"
    }
   ],
   "source": [
    "ace.isnull().sum()"
   ]
  },
  {
   "cell_type": "code",
   "execution_count": 46,
   "id": "7babd2c5-23b0-47c5-a86a-4b3344ef51e8",
   "metadata": {},
   "outputs": [],
   "source": [
    "ace = ace.dropna(subset=['ACEDEPRS', 'ACEDRINK', 'ACEDRUGS', 'ACEPRISN',\n",
    "       'ACEDIVRC', 'ACEPUNCH', 'ACEHURT1', 'ACESWEAR', 'ACETOUCH', 'ACETTHEM',\n",
    "       'ACEHVSEX', 'ACEADSAF', 'ACEADNED'])"
   ]
  },
  {
   "cell_type": "code",
   "execution_count": 47,
   "id": "e9d09194-9c3e-4789-94ec-fdbea7072beb",
   "metadata": {},
   "outputs": [
    {
     "data": {
      "text/html": [
       "<div>\n",
       "<style scoped>\n",
       "    .dataframe tbody tr th:only-of-type {\n",
       "        vertical-align: middle;\n",
       "    }\n",
       "\n",
       "    .dataframe tbody tr th {\n",
       "        vertical-align: top;\n",
       "    }\n",
       "\n",
       "    .dataframe thead th {\n",
       "        text-align: right;\n",
       "    }\n",
       "</style>\n",
       "<table border=\"1\" class=\"dataframe\">\n",
       "  <thead>\n",
       "    <tr style=\"text-align: right;\">\n",
       "      <th></th>\n",
       "      <th>count</th>\n",
       "      <th>mean</th>\n",
       "      <th>std</th>\n",
       "      <th>min</th>\n",
       "      <th>25%</th>\n",
       "      <th>50%</th>\n",
       "      <th>75%</th>\n",
       "      <th>max</th>\n",
       "    </tr>\n",
       "  </thead>\n",
       "  <tbody>\n",
       "    <tr>\n",
       "      <th>DIABETE4</th>\n",
       "      <td>52299.0</td>\n",
       "      <td>0.165816</td>\n",
       "      <td>0.371919</td>\n",
       "      <td>0.0</td>\n",
       "      <td>0.0</td>\n",
       "      <td>0.0</td>\n",
       "      <td>0.0</td>\n",
       "      <td>1.0</td>\n",
       "    </tr>\n",
       "    <tr>\n",
       "      <th>BPHIGH6</th>\n",
       "      <td>52299.0</td>\n",
       "      <td>0.449684</td>\n",
       "      <td>0.497467</td>\n",
       "      <td>0.0</td>\n",
       "      <td>0.0</td>\n",
       "      <td>0.0</td>\n",
       "      <td>1.0</td>\n",
       "      <td>1.0</td>\n",
       "    </tr>\n",
       "    <tr>\n",
       "      <th>ACEDEPRS</th>\n",
       "      <td>52299.0</td>\n",
       "      <td>1.826000</td>\n",
       "      <td>0.379113</td>\n",
       "      <td>1.0</td>\n",
       "      <td>2.0</td>\n",
       "      <td>2.0</td>\n",
       "      <td>2.0</td>\n",
       "      <td>2.0</td>\n",
       "    </tr>\n",
       "    <tr>\n",
       "      <th>ACEDRINK</th>\n",
       "      <td>52299.0</td>\n",
       "      <td>1.772347</td>\n",
       "      <td>0.419321</td>\n",
       "      <td>1.0</td>\n",
       "      <td>2.0</td>\n",
       "      <td>2.0</td>\n",
       "      <td>2.0</td>\n",
       "      <td>2.0</td>\n",
       "    </tr>\n",
       "    <tr>\n",
       "      <th>ACEDRUGS</th>\n",
       "      <td>52299.0</td>\n",
       "      <td>1.910476</td>\n",
       "      <td>0.285501</td>\n",
       "      <td>1.0</td>\n",
       "      <td>2.0</td>\n",
       "      <td>2.0</td>\n",
       "      <td>2.0</td>\n",
       "      <td>2.0</td>\n",
       "    </tr>\n",
       "    <tr>\n",
       "      <th>ACEPRISN</th>\n",
       "      <td>52299.0</td>\n",
       "      <td>1.936576</td>\n",
       "      <td>0.243726</td>\n",
       "      <td>1.0</td>\n",
       "      <td>2.0</td>\n",
       "      <td>2.0</td>\n",
       "      <td>2.0</td>\n",
       "      <td>2.0</td>\n",
       "    </tr>\n",
       "    <tr>\n",
       "      <th>ACEDIVRC</th>\n",
       "      <td>52299.0</td>\n",
       "      <td>1.760340</td>\n",
       "      <td>0.426880</td>\n",
       "      <td>1.0</td>\n",
       "      <td>2.0</td>\n",
       "      <td>2.0</td>\n",
       "      <td>2.0</td>\n",
       "      <td>2.0</td>\n",
       "    </tr>\n",
       "    <tr>\n",
       "      <th>ACEPUNCH</th>\n",
       "      <td>52299.0</td>\n",
       "      <td>1.145261</td>\n",
       "      <td>0.352367</td>\n",
       "      <td>1.0</td>\n",
       "      <td>1.0</td>\n",
       "      <td>1.0</td>\n",
       "      <td>1.0</td>\n",
       "      <td>2.0</td>\n",
       "    </tr>\n",
       "    <tr>\n",
       "      <th>ACEHURT1</th>\n",
       "      <td>52299.0</td>\n",
       "      <td>1.212777</td>\n",
       "      <td>0.409275</td>\n",
       "      <td>1.0</td>\n",
       "      <td>1.0</td>\n",
       "      <td>1.0</td>\n",
       "      <td>1.0</td>\n",
       "      <td>2.0</td>\n",
       "    </tr>\n",
       "    <tr>\n",
       "      <th>ACESWEAR</th>\n",
       "      <td>52299.0</td>\n",
       "      <td>1.317425</td>\n",
       "      <td>0.465479</td>\n",
       "      <td>1.0</td>\n",
       "      <td>1.0</td>\n",
       "      <td>1.0</td>\n",
       "      <td>2.0</td>\n",
       "      <td>2.0</td>\n",
       "    </tr>\n",
       "    <tr>\n",
       "      <th>ACETOUCH</th>\n",
       "      <td>52299.0</td>\n",
       "      <td>1.104132</td>\n",
       "      <td>0.305435</td>\n",
       "      <td>1.0</td>\n",
       "      <td>1.0</td>\n",
       "      <td>1.0</td>\n",
       "      <td>1.0</td>\n",
       "      <td>2.0</td>\n",
       "    </tr>\n",
       "    <tr>\n",
       "      <th>ACETTHEM</th>\n",
       "      <td>52299.0</td>\n",
       "      <td>1.076063</td>\n",
       "      <td>0.265101</td>\n",
       "      <td>1.0</td>\n",
       "      <td>1.0</td>\n",
       "      <td>1.0</td>\n",
       "      <td>1.0</td>\n",
       "      <td>2.0</td>\n",
       "    </tr>\n",
       "    <tr>\n",
       "      <th>ACEHVSEX</th>\n",
       "      <td>52299.0</td>\n",
       "      <td>1.043901</td>\n",
       "      <td>0.204878</td>\n",
       "      <td>1.0</td>\n",
       "      <td>1.0</td>\n",
       "      <td>1.0</td>\n",
       "      <td>1.0</td>\n",
       "      <td>2.0</td>\n",
       "    </tr>\n",
       "    <tr>\n",
       "      <th>ACEADSAF</th>\n",
       "      <td>52299.0</td>\n",
       "      <td>1.759422</td>\n",
       "      <td>0.427439</td>\n",
       "      <td>1.0</td>\n",
       "      <td>2.0</td>\n",
       "      <td>2.0</td>\n",
       "      <td>2.0</td>\n",
       "      <td>2.0</td>\n",
       "    </tr>\n",
       "    <tr>\n",
       "      <th>ACEADNED</th>\n",
       "      <td>52299.0</td>\n",
       "      <td>1.858181</td>\n",
       "      <td>0.348868</td>\n",
       "      <td>1.0</td>\n",
       "      <td>2.0</td>\n",
       "      <td>2.0</td>\n",
       "      <td>2.0</td>\n",
       "      <td>2.0</td>\n",
       "    </tr>\n",
       "  </tbody>\n",
       "</table>\n",
       "</div>"
      ],
      "text/plain": [
       "            count      mean       std  min  25%  50%  75%  max\n",
       "DIABETE4  52299.0  0.165816  0.371919  0.0  0.0  0.0  0.0  1.0\n",
       "BPHIGH6   52299.0  0.449684  0.497467  0.0  0.0  0.0  1.0  1.0\n",
       "ACEDEPRS  52299.0  1.826000  0.379113  1.0  2.0  2.0  2.0  2.0\n",
       "ACEDRINK  52299.0  1.772347  0.419321  1.0  2.0  2.0  2.0  2.0\n",
       "ACEDRUGS  52299.0  1.910476  0.285501  1.0  2.0  2.0  2.0  2.0\n",
       "ACEPRISN  52299.0  1.936576  0.243726  1.0  2.0  2.0  2.0  2.0\n",
       "ACEDIVRC  52299.0  1.760340  0.426880  1.0  2.0  2.0  2.0  2.0\n",
       "ACEPUNCH  52299.0  1.145261  0.352367  1.0  1.0  1.0  1.0  2.0\n",
       "ACEHURT1  52299.0  1.212777  0.409275  1.0  1.0  1.0  1.0  2.0\n",
       "ACESWEAR  52299.0  1.317425  0.465479  1.0  1.0  1.0  2.0  2.0\n",
       "ACETOUCH  52299.0  1.104132  0.305435  1.0  1.0  1.0  1.0  2.0\n",
       "ACETTHEM  52299.0  1.076063  0.265101  1.0  1.0  1.0  1.0  2.0\n",
       "ACEHVSEX  52299.0  1.043901  0.204878  1.0  1.0  1.0  1.0  2.0\n",
       "ACEADSAF  52299.0  1.759422  0.427439  1.0  2.0  2.0  2.0  2.0\n",
       "ACEADNED  52299.0  1.858181  0.348868  1.0  2.0  2.0  2.0  2.0"
      ]
     },
     "execution_count": 47,
     "metadata": {},
     "output_type": "execute_result"
    }
   ],
   "source": [
    "ace.describe().transpose() "
   ]
  },
  {
   "cell_type": "code",
   "execution_count": 48,
   "id": "c6386efe-3509-4abd-b9e0-6a12e278512d",
   "metadata": {},
   "outputs": [
    {
     "data": {
      "text/plain": [
       "DIABETE4    0\n",
       "BPHIGH6     0\n",
       "ACEDEPRS    0\n",
       "ACEDRINK    0\n",
       "ACEDRUGS    0\n",
       "ACEPRISN    0\n",
       "ACEDIVRC    0\n",
       "ACEPUNCH    0\n",
       "ACEHURT1    0\n",
       "ACESWEAR    0\n",
       "ACETOUCH    0\n",
       "ACETTHEM    0\n",
       "ACEHVSEX    0\n",
       "ACEADSAF    0\n",
       "ACEADNED    0\n",
       "dtype: int64"
      ]
     },
     "execution_count": 48,
     "metadata": {},
     "output_type": "execute_result"
    }
   ],
   "source": [
    "ace.isnull().sum()"
   ]
  },
  {
   "cell_type": "code",
   "execution_count": 49,
   "id": "5680bcc6-9f25-4419-ac63-cad4b23c3b7c",
   "metadata": {},
   "outputs": [
    {
     "data": {
      "text/plain": [
       "Index(['DIABETE4', 'BPHIGH6', 'ACEDEPRS', 'ACEDRINK', 'ACEDRUGS', 'ACEPRISN',\n",
       "       'ACEDIVRC', 'ACEPUNCH', 'ACEHURT1', 'ACESWEAR', 'ACETOUCH', 'ACETTHEM',\n",
       "       'ACEHVSEX', 'ACEADSAF', 'ACEADNED'],\n",
       "      dtype='object')"
      ]
     },
     "execution_count": 49,
     "metadata": {},
     "output_type": "execute_result"
    }
   ],
   "source": [
    "ace.columns"
   ]
  },
  {
   "cell_type": "markdown",
   "id": "f2b82205-25ed-4e65-aac5-8fba8415d5eb",
   "metadata": {},
   "source": [
    "#### Save cleaned dataset to csv "
   ]
  },
  {
   "cell_type": "code",
   "execution_count": 50,
   "id": "9fa5b3e2-2101-49ee-b233-c44c9184edff",
   "metadata": {},
   "outputs": [],
   "source": [
    "ace.to_csv('../Datasets/clean_ace.csv', index=False)"
   ]
  }
 ],
 "metadata": {
  "kernelspec": {
   "display_name": "Python 3 (ipykernel)",
   "language": "python",
   "name": "python3"
  },
  "language_info": {
   "codemirror_mode": {
    "name": "ipython",
    "version": 3
   },
   "file_extension": ".py",
   "mimetype": "text/x-python",
   "name": "python",
   "nbconvert_exporter": "python",
   "pygments_lexer": "ipython3",
   "version": "3.9.16"
  }
 },
 "nbformat": 4,
 "nbformat_minor": 5
}

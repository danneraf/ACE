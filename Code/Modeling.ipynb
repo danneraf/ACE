{
 "cells": [
  {
   "cell_type": "markdown",
   "id": "f5670e27-6eb1-464f-b8c8-c81b94235970",
   "metadata": {},
   "source": [
    "# Modeling "
   ]
  },
  {
   "cell_type": "code",
   "execution_count": 1,
   "id": "5b2dc167-7e15-48d9-8f72-23630c7f4765",
   "metadata": {},
   "outputs": [],
   "source": [
    "import pandas as pd\n",
    "import numpy as np \n",
    "import seaborn as sns\n",
    "import matplotlib.pyplot as plt \n",
    "\n",
    "from sklearn.model_selection import train_test_split, cross_val_score, GridSearchCV\n",
    "from sklearn.linear_model import LogisticRegression\n",
    "from sklearn.metrics import confusion_matrix, ConfusionMatrixDisplay, f1_score\n",
    "from sklearn import metrics\n",
    "from sklearn.pipeline import Pipeline\n",
    "from sklearn.tree import DecisionTreeRegressor, DecisionTreeClassifier\n",
    "\n",
    "pd.options.display.max_columns = None\n",
    "pd.options.display.max_rows = None "
   ]
  },
  {
   "cell_type": "code",
   "execution_count": 2,
   "id": "a1fed7cb-58e7-46e0-a057-0f7838ca520b",
   "metadata": {},
   "outputs": [],
   "source": [
    "ace = pd.read_csv('../Datasets/clean_ace.csv') "
   ]
  },
  {
   "cell_type": "code",
   "execution_count": 3,
   "id": "019da33b-a4fd-436b-af65-6d2b67f374aa",
   "metadata": {},
   "outputs": [
    {
     "data": {
      "text/html": [
       "<div>\n",
       "<style scoped>\n",
       "    .dataframe tbody tr th:only-of-type {\n",
       "        vertical-align: middle;\n",
       "    }\n",
       "\n",
       "    .dataframe tbody tr th {\n",
       "        vertical-align: top;\n",
       "    }\n",
       "\n",
       "    .dataframe thead th {\n",
       "        text-align: right;\n",
       "    }\n",
       "</style>\n",
       "<table border=\"1\" class=\"dataframe\">\n",
       "  <thead>\n",
       "    <tr style=\"text-align: right;\">\n",
       "      <th></th>\n",
       "      <th>DIABETE4</th>\n",
       "      <th>BPHIGH6</th>\n",
       "      <th>ACEDEPRS</th>\n",
       "      <th>ACEDRINK</th>\n",
       "      <th>ACEDRUGS</th>\n",
       "      <th>ACEPRISN</th>\n",
       "      <th>ACEDIVRC</th>\n",
       "      <th>ACEPUNCH</th>\n",
       "      <th>ACEHURT1</th>\n",
       "      <th>ACESWEAR</th>\n",
       "      <th>ACETOUCH</th>\n",
       "      <th>ACETTHEM</th>\n",
       "      <th>ACEHVSEX</th>\n",
       "      <th>ACEADSAF</th>\n",
       "      <th>ACEADNED</th>\n",
       "    </tr>\n",
       "  </thead>\n",
       "  <tbody>\n",
       "    <tr>\n",
       "      <th>0</th>\n",
       "      <td>1.0</td>\n",
       "      <td>1.0</td>\n",
       "      <td>2.0</td>\n",
       "      <td>2.0</td>\n",
       "      <td>2.0</td>\n",
       "      <td>2.0</td>\n",
       "      <td>1.0</td>\n",
       "      <td>1.0</td>\n",
       "      <td>1.0</td>\n",
       "      <td>1.0</td>\n",
       "      <td>1.0</td>\n",
       "      <td>1.0</td>\n",
       "      <td>1.0</td>\n",
       "      <td>2.0</td>\n",
       "      <td>1.0</td>\n",
       "    </tr>\n",
       "    <tr>\n",
       "      <th>1</th>\n",
       "      <td>0.0</td>\n",
       "      <td>0.0</td>\n",
       "      <td>2.0</td>\n",
       "      <td>2.0</td>\n",
       "      <td>2.0</td>\n",
       "      <td>2.0</td>\n",
       "      <td>2.0</td>\n",
       "      <td>1.0</td>\n",
       "      <td>1.0</td>\n",
       "      <td>1.0</td>\n",
       "      <td>1.0</td>\n",
       "      <td>1.0</td>\n",
       "      <td>1.0</td>\n",
       "      <td>2.0</td>\n",
       "      <td>2.0</td>\n",
       "    </tr>\n",
       "    <tr>\n",
       "      <th>2</th>\n",
       "      <td>0.0</td>\n",
       "      <td>0.0</td>\n",
       "      <td>2.0</td>\n",
       "      <td>2.0</td>\n",
       "      <td>2.0</td>\n",
       "      <td>2.0</td>\n",
       "      <td>2.0</td>\n",
       "      <td>1.0</td>\n",
       "      <td>1.0</td>\n",
       "      <td>1.0</td>\n",
       "      <td>1.0</td>\n",
       "      <td>1.0</td>\n",
       "      <td>1.0</td>\n",
       "      <td>2.0</td>\n",
       "      <td>2.0</td>\n",
       "    </tr>\n",
       "  </tbody>\n",
       "</table>\n",
       "</div>"
      ],
      "text/plain": [
       "   DIABETE4  BPHIGH6  ACEDEPRS  ACEDRINK  ACEDRUGS  ACEPRISN  ACEDIVRC  \\\n",
       "0       1.0      1.0       2.0       2.0       2.0       2.0       1.0   \n",
       "1       0.0      0.0       2.0       2.0       2.0       2.0       2.0   \n",
       "2       0.0      0.0       2.0       2.0       2.0       2.0       2.0   \n",
       "\n",
       "   ACEPUNCH  ACEHURT1  ACESWEAR  ACETOUCH  ACETTHEM  ACEHVSEX  ACEADSAF  \\\n",
       "0       1.0       1.0       1.0       1.0       1.0       1.0       2.0   \n",
       "1       1.0       1.0       1.0       1.0       1.0       1.0       2.0   \n",
       "2       1.0       1.0       1.0       1.0       1.0       1.0       2.0   \n",
       "\n",
       "   ACEADNED  \n",
       "0       1.0  \n",
       "1       2.0  \n",
       "2       2.0  "
      ]
     },
     "execution_count": 3,
     "metadata": {},
     "output_type": "execute_result"
    }
   ],
   "source": [
    "ace.head(3)"
   ]
  },
  {
   "cell_type": "code",
   "execution_count": null,
   "id": "bd22d5d8-8948-4c74-a8cf-77d9192d321a",
   "metadata": {},
   "outputs": [],
   "source": []
  }
 ],
 "metadata": {
  "kernelspec": {
   "display_name": "Python 3 (ipykernel)",
   "language": "python",
   "name": "python3"
  },
  "language_info": {
   "codemirror_mode": {
    "name": "ipython",
    "version": 3
   },
   "file_extension": ".py",
   "mimetype": "text/x-python",
   "name": "python",
   "nbconvert_exporter": "python",
   "pygments_lexer": "ipython3",
   "version": "3.9.16"
  }
 },
 "nbformat": 4,
 "nbformat_minor": 5
}
